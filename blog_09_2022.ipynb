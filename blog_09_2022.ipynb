{
 "cells": [
  {
   "cell_type": "markdown",
   "id": "973dcb80-f99d-4ea6-8e24-c5c94c7c49bc",
   "metadata": {},
   "source": [
    "#### A study based on the Stack Overflow Annual Developer Survey for 2022."
   ]
  },
  {
   "cell_type": "markdown",
   "id": "546266a0-a557-449f-a218-9107dc6e0185",
   "metadata": {
    "jp-MarkdownHeadingCollapsed": true,
    "tags": []
   },
   "source": [
    "#### Business Understanding\n",
    "* Brief Description: \n",
    "The 2022 Stack Overflow Annual Developer Survey has over 70,000 responses collected from more than 180 countries. I performed data analysis of the survey responses to look into how the country of residence can affect salary and working conditions, and what programming language preferences are recorded in relation to years of professional experience. In specific the aim of this analysis is to answer the following 3 questions:\n",
    "    - Question 1. Which programming languages are used by the most experienced developers?\n",
    "    - Question 2. How does the country of residence relate to salary and years of professional experience?\n",
    "    - Question 3. How flexible are the working conditions in the different countries?\n",
    "    \n",
    "The findings of this data analysis are presented in this blog post:\n",
    "https://medium.com/@irene.kolaiti/its-where-you-live-not-what-you-know-5ed4b8c62ec3"
   ]
  },
  {
   "cell_type": "markdown",
   "id": "3d493ac3-c228-40b2-86b1-8e2269134283",
   "metadata": {},
   "source": [
    "#### Data Understanding\n",
    "* Access  \n",
    "I downloaded from https://insights.stackoverflow.com/survey the following files that contain the data from the 2022 survey. The explanation of the files is copied over from the README_2022 file that in included in the 2022 folder:\n",
    "1. survey_results_public.csv - CSV file with main survey results, one respondent per row and one column per answer\n",
    "2. survey_results_schema.csv - CSV file with survey schema, i.e., the questions that correspond to each column name\n",
    "\n",
    "In other words, the survey_results_public.csv contains the raw data and the survey_results_schema.csv contains an explanation of the survey questions."
   ]
  },
  {
   "cell_type": "code",
   "execution_count": 1,
   "id": "21a9635d-effe-44b9-a887-d06934ae6005",
   "metadata": {},
   "outputs": [
    {
     "data": {
      "text/html": [
       "<div>\n",
       "<style scoped>\n",
       "    .dataframe tbody tr th:only-of-type {\n",
       "        vertical-align: middle;\n",
       "    }\n",
       "\n",
       "    .dataframe tbody tr th {\n",
       "        vertical-align: top;\n",
       "    }\n",
       "\n",
       "    .dataframe thead th {\n",
       "        text-align: right;\n",
       "    }\n",
       "</style>\n",
       "<table border=\"1\" class=\"dataframe\">\n",
       "  <thead>\n",
       "    <tr style=\"text-align: right;\">\n",
       "      <th></th>\n",
       "      <th>ResponseId</th>\n",
       "      <th>MainBranch</th>\n",
       "      <th>Employment</th>\n",
       "      <th>RemoteWork</th>\n",
       "      <th>CodingActivities</th>\n",
       "      <th>EdLevel</th>\n",
       "      <th>LearnCode</th>\n",
       "      <th>LearnCodeOnline</th>\n",
       "      <th>LearnCodeCoursesCert</th>\n",
       "      <th>YearsCode</th>\n",
       "      <th>...</th>\n",
       "      <th>TimeSearching</th>\n",
       "      <th>TimeAnswering</th>\n",
       "      <th>Onboarding</th>\n",
       "      <th>ProfessionalTech</th>\n",
       "      <th>TrueFalse_1</th>\n",
       "      <th>TrueFalse_2</th>\n",
       "      <th>TrueFalse_3</th>\n",
       "      <th>SurveyLength</th>\n",
       "      <th>SurveyEase</th>\n",
       "      <th>ConvertedCompYearly</th>\n",
       "    </tr>\n",
       "  </thead>\n",
       "  <tbody>\n",
       "    <tr>\n",
       "      <th>0</th>\n",
       "      <td>1</td>\n",
       "      <td>None of these</td>\n",
       "      <td>NaN</td>\n",
       "      <td>NaN</td>\n",
       "      <td>NaN</td>\n",
       "      <td>NaN</td>\n",
       "      <td>NaN</td>\n",
       "      <td>NaN</td>\n",
       "      <td>NaN</td>\n",
       "      <td>NaN</td>\n",
       "      <td>...</td>\n",
       "      <td>NaN</td>\n",
       "      <td>NaN</td>\n",
       "      <td>NaN</td>\n",
       "      <td>NaN</td>\n",
       "      <td>NaN</td>\n",
       "      <td>NaN</td>\n",
       "      <td>NaN</td>\n",
       "      <td>NaN</td>\n",
       "      <td>NaN</td>\n",
       "      <td>NaN</td>\n",
       "    </tr>\n",
       "    <tr>\n",
       "      <th>1</th>\n",
       "      <td>2</td>\n",
       "      <td>I am a developer by profession</td>\n",
       "      <td>Employed, full-time</td>\n",
       "      <td>Fully remote</td>\n",
       "      <td>Hobby;Contribute to open-source projects</td>\n",
       "      <td>NaN</td>\n",
       "      <td>NaN</td>\n",
       "      <td>NaN</td>\n",
       "      <td>NaN</td>\n",
       "      <td>NaN</td>\n",
       "      <td>...</td>\n",
       "      <td>NaN</td>\n",
       "      <td>NaN</td>\n",
       "      <td>NaN</td>\n",
       "      <td>NaN</td>\n",
       "      <td>NaN</td>\n",
       "      <td>NaN</td>\n",
       "      <td>NaN</td>\n",
       "      <td>Too long</td>\n",
       "      <td>Difficult</td>\n",
       "      <td>NaN</td>\n",
       "    </tr>\n",
       "    <tr>\n",
       "      <th>2</th>\n",
       "      <td>3</td>\n",
       "      <td>I am not primarily a developer, but I write co...</td>\n",
       "      <td>Employed, full-time</td>\n",
       "      <td>Hybrid (some remote, some in-person)</td>\n",
       "      <td>Hobby</td>\n",
       "      <td>Master’s degree (M.A., M.S., M.Eng., MBA, etc.)</td>\n",
       "      <td>Books / Physical media;Friend or family member...</td>\n",
       "      <td>Technical documentation;Blogs;Programming Game...</td>\n",
       "      <td>NaN</td>\n",
       "      <td>14</td>\n",
       "      <td>...</td>\n",
       "      <td>NaN</td>\n",
       "      <td>NaN</td>\n",
       "      <td>NaN</td>\n",
       "      <td>NaN</td>\n",
       "      <td>NaN</td>\n",
       "      <td>NaN</td>\n",
       "      <td>NaN</td>\n",
       "      <td>Appropriate in length</td>\n",
       "      <td>Neither easy nor difficult</td>\n",
       "      <td>40205.0</td>\n",
       "    </tr>\n",
       "    <tr>\n",
       "      <th>3</th>\n",
       "      <td>4</td>\n",
       "      <td>I am a developer by profession</td>\n",
       "      <td>Employed, full-time</td>\n",
       "      <td>Fully remote</td>\n",
       "      <td>I don’t code outside of work</td>\n",
       "      <td>Bachelor’s degree (B.A., B.S., B.Eng., etc.)</td>\n",
       "      <td>Books / Physical media;School (i.e., Universit...</td>\n",
       "      <td>NaN</td>\n",
       "      <td>NaN</td>\n",
       "      <td>20</td>\n",
       "      <td>...</td>\n",
       "      <td>NaN</td>\n",
       "      <td>NaN</td>\n",
       "      <td>NaN</td>\n",
       "      <td>NaN</td>\n",
       "      <td>NaN</td>\n",
       "      <td>NaN</td>\n",
       "      <td>NaN</td>\n",
       "      <td>Appropriate in length</td>\n",
       "      <td>Easy</td>\n",
       "      <td>215232.0</td>\n",
       "    </tr>\n",
       "    <tr>\n",
       "      <th>4</th>\n",
       "      <td>5</td>\n",
       "      <td>I am a developer by profession</td>\n",
       "      <td>Employed, full-time</td>\n",
       "      <td>Hybrid (some remote, some in-person)</td>\n",
       "      <td>Hobby</td>\n",
       "      <td>Bachelor’s degree (B.A., B.S., B.Eng., etc.)</td>\n",
       "      <td>Other online resources (e.g., videos, blogs, f...</td>\n",
       "      <td>Technical documentation;Blogs;Stack Overflow;O...</td>\n",
       "      <td>NaN</td>\n",
       "      <td>8</td>\n",
       "      <td>...</td>\n",
       "      <td>NaN</td>\n",
       "      <td>NaN</td>\n",
       "      <td>NaN</td>\n",
       "      <td>NaN</td>\n",
       "      <td>NaN</td>\n",
       "      <td>NaN</td>\n",
       "      <td>NaN</td>\n",
       "      <td>Too long</td>\n",
       "      <td>Easy</td>\n",
       "      <td>NaN</td>\n",
       "    </tr>\n",
       "  </tbody>\n",
       "</table>\n",
       "<p>5 rows × 79 columns</p>\n",
       "</div>"
      ],
      "text/plain": [
       "   ResponseId                                         MainBranch  \\\n",
       "0           1                                      None of these   \n",
       "1           2                     I am a developer by profession   \n",
       "2           3  I am not primarily a developer, but I write co...   \n",
       "3           4                     I am a developer by profession   \n",
       "4           5                     I am a developer by profession   \n",
       "\n",
       "            Employment                            RemoteWork  \\\n",
       "0                  NaN                                   NaN   \n",
       "1  Employed, full-time                          Fully remote   \n",
       "2  Employed, full-time  Hybrid (some remote, some in-person)   \n",
       "3  Employed, full-time                          Fully remote   \n",
       "4  Employed, full-time  Hybrid (some remote, some in-person)   \n",
       "\n",
       "                           CodingActivities  \\\n",
       "0                                       NaN   \n",
       "1  Hobby;Contribute to open-source projects   \n",
       "2                                     Hobby   \n",
       "3              I don’t code outside of work   \n",
       "4                                     Hobby   \n",
       "\n",
       "                                           EdLevel  \\\n",
       "0                                              NaN   \n",
       "1                                              NaN   \n",
       "2  Master’s degree (M.A., M.S., M.Eng., MBA, etc.)   \n",
       "3     Bachelor’s degree (B.A., B.S., B.Eng., etc.)   \n",
       "4     Bachelor’s degree (B.A., B.S., B.Eng., etc.)   \n",
       "\n",
       "                                           LearnCode  \\\n",
       "0                                                NaN   \n",
       "1                                                NaN   \n",
       "2  Books / Physical media;Friend or family member...   \n",
       "3  Books / Physical media;School (i.e., Universit...   \n",
       "4  Other online resources (e.g., videos, blogs, f...   \n",
       "\n",
       "                                     LearnCodeOnline LearnCodeCoursesCert  \\\n",
       "0                                                NaN                  NaN   \n",
       "1                                                NaN                  NaN   \n",
       "2  Technical documentation;Blogs;Programming Game...                  NaN   \n",
       "3                                                NaN                  NaN   \n",
       "4  Technical documentation;Blogs;Stack Overflow;O...                  NaN   \n",
       "\n",
       "  YearsCode  ... TimeSearching TimeAnswering Onboarding ProfessionalTech  \\\n",
       "0       NaN  ...           NaN           NaN        NaN              NaN   \n",
       "1       NaN  ...           NaN           NaN        NaN              NaN   \n",
       "2        14  ...           NaN           NaN        NaN              NaN   \n",
       "3        20  ...           NaN           NaN        NaN              NaN   \n",
       "4         8  ...           NaN           NaN        NaN              NaN   \n",
       "\n",
       "  TrueFalse_1 TrueFalse_2 TrueFalse_3           SurveyLength  \\\n",
       "0         NaN         NaN         NaN                    NaN   \n",
       "1         NaN         NaN         NaN               Too long   \n",
       "2         NaN         NaN         NaN  Appropriate in length   \n",
       "3         NaN         NaN         NaN  Appropriate in length   \n",
       "4         NaN         NaN         NaN               Too long   \n",
       "\n",
       "                   SurveyEase ConvertedCompYearly  \n",
       "0                         NaN                 NaN  \n",
       "1                   Difficult                 NaN  \n",
       "2  Neither easy nor difficult             40205.0  \n",
       "3                        Easy            215232.0  \n",
       "4                        Easy                 NaN  \n",
       "\n",
       "[5 rows x 79 columns]"
      ]
     },
     "execution_count": 1,
     "metadata": {},
     "output_type": "execute_result"
    }
   ],
   "source": [
    "import numpy as np\n",
    "import pandas as pd\n",
    "import matplotlib.pyplot as plt\n",
    "import seaborn as sns\n",
    "%matplotlib inline\n",
    "\n",
    "schema_2022 = pd.read_csv('./survey_results_schema_2022.csv')\n",
    "df_2022 = pd.read_csv('./survey_results_public_2022.csv')\n",
    "df_2022.head()"
   ]
  },
  {
   "cell_type": "code",
   "execution_count": 2,
   "id": "b90f34d5-6454-41f5-9851-2a1c7a0d2053",
   "metadata": {},
   "outputs": [
    {
     "name": "stdout",
     "output_type": "stream",
     "text": [
      "73268\n",
      "79\n"
     ]
    }
   ],
   "source": [
    "num_rows = df_2022.shape[0] #Check the number of rows in the dataset\n",
    "num_cols = df_2022.shape[1] #Check the number of columns in the dataset\n",
    "\n",
    "print(num_rows)\n",
    "print(num_cols)"
   ]
  },
  {
   "cell_type": "code",
   "execution_count": 3,
   "id": "2adef187-5a4c-456c-b52b-39d63c5dc293",
   "metadata": {},
   "outputs": [
    {
     "data": {
      "text/plain": [
       "Index(['ResponseId', 'MainBranch', 'Employment', 'RemoteWork',\n",
       "       'CodingActivities', 'EdLevel', 'LearnCode', 'LearnCodeOnline',\n",
       "       'LearnCodeCoursesCert', 'YearsCode', 'YearsCodePro', 'DevType',\n",
       "       'OrgSize', 'PurchaseInfluence', 'BuyNewTool', 'Country', 'Currency',\n",
       "       'CompTotal', 'CompFreq', 'LanguageHaveWorkedWith',\n",
       "       'LanguageWantToWorkWith', 'DatabaseHaveWorkedWith',\n",
       "       'DatabaseWantToWorkWith', 'PlatformHaveWorkedWith',\n",
       "       'PlatformWantToWorkWith', 'WebframeHaveWorkedWith',\n",
       "       'WebframeWantToWorkWith', 'MiscTechHaveWorkedWith',\n",
       "       'MiscTechWantToWorkWith', 'ToolsTechHaveWorkedWith',\n",
       "       'ToolsTechWantToWorkWith', 'NEWCollabToolsHaveWorkedWith',\n",
       "       'NEWCollabToolsWantToWorkWith', 'OpSysProfessional use',\n",
       "       'OpSysPersonal use', 'VersionControlSystem', 'VCInteraction',\n",
       "       'VCHostingPersonal use', 'VCHostingProfessional use',\n",
       "       'OfficeStackAsyncHaveWorkedWith', 'OfficeStackAsyncWantToWorkWith',\n",
       "       'OfficeStackSyncHaveWorkedWith', 'OfficeStackSyncWantToWorkWith',\n",
       "       'Blockchain', 'NEWSOSites', 'SOVisitFreq', 'SOAccount', 'SOPartFreq',\n",
       "       'SOComm', 'Age', 'Gender', 'Trans', 'Sexuality', 'Ethnicity',\n",
       "       'Accessibility', 'MentalHealth', 'TBranch', 'ICorPM', 'WorkExp',\n",
       "       'Knowledge_1', 'Knowledge_2', 'Knowledge_3', 'Knowledge_4',\n",
       "       'Knowledge_5', 'Knowledge_6', 'Knowledge_7', 'Frequency_1',\n",
       "       'Frequency_2', 'Frequency_3', 'TimeSearching', 'TimeAnswering',\n",
       "       'Onboarding', 'ProfessionalTech', 'TrueFalse_1', 'TrueFalse_2',\n",
       "       'TrueFalse_3', 'SurveyLength', 'SurveyEase', 'ConvertedCompYearly'],\n",
       "      dtype='object')"
      ]
     },
     "execution_count": 3,
     "metadata": {},
     "output_type": "execute_result"
    }
   ],
   "source": [
    "df_2022.columns"
   ]
  },
  {
   "cell_type": "markdown",
   "id": "3f3408d0-89a2-4d62-95e5-cd330ae3e4c1",
   "metadata": {},
   "source": [
    "#### Q1 - Which programming languages are used by the most experienced developers?"
   ]
  },
  {
   "cell_type": "markdown",
   "id": "984ed34e-d3cb-474a-ae88-76c03c121b53",
   "metadata": {},
   "source": [
    "#### Data Understanding\n",
    "* Explore  \n",
    "In the following cells I use the get_description function to explore what type of questions each column of the dataset corresponds to. I also look into the range of values of these columns."
   ]
  },
  {
   "cell_type": "code",
   "execution_count": 4,
   "id": "799f7f8a-c3ce-41cc-b8c9-189b7bdc78d1",
   "metadata": {},
   "outputs": [],
   "source": [
    "def get_description(column_name, schema):\n",
    "    '''\n",
    "    INPUT - schema - pandas dataframe with the schema of the developers survey\n",
    "            column_name - string - the name of the column you would like to know about\n",
    "    OUTPUT - \n",
    "            desc - string - the description of the column\n",
    "    '''\n",
    "    desc = schema.loc[schema['qname'] == column_name, 'question'].tolist()\n",
    "    return desc"
   ]
  },
  {
   "cell_type": "code",
   "execution_count": 5,
   "id": "6bec44fb-c87b-4379-b6c3-0eb172593f2a",
   "metadata": {},
   "outputs": [
    {
     "data": {
      "text/plain": [
       "['Which <b>programming, scripting, and markup languages</b> have you done extensive development work in over the past year, and which do you want to work in over the next year? (If you both worked with the language and want to continue to do so, please check both boxes in that row.)']"
      ]
     },
     "execution_count": 5,
     "metadata": {},
     "output_type": "execute_result"
    }
   ],
   "source": [
    "# Check the survey question about language\n",
    "get_description('Language', schema_2022)"
   ]
  },
  {
   "cell_type": "code",
   "execution_count": 6,
   "id": "67e3822c-dd01-400a-9e73-e796a6df4a95",
   "metadata": {},
   "outputs": [
    {
     "data": {
      "text/plain": [
       "['Including any education, how many years have you been coding in total?']"
      ]
     },
     "execution_count": 6,
     "metadata": {},
     "output_type": "execute_result"
    }
   ],
   "source": [
    "# Check the survey question about YearsCode\n",
    "get_description('YearsCode', schema_2022)"
   ]
  },
  {
   "cell_type": "code",
   "execution_count": 7,
   "id": "3bf4ea31-938d-40d4-894b-d007df814a27",
   "metadata": {},
   "outputs": [
    {
     "data": {
      "text/plain": [
       "['NOT including education, how many years have you coded professionally (as a part of your work)?']"
      ]
     },
     "execution_count": 7,
     "metadata": {},
     "output_type": "execute_result"
    }
   ],
   "source": [
    "# Check the survey question about YearsCodePro\n",
    "get_description('YearsCodePro', schema_2022)"
   ]
  },
  {
   "cell_type": "code",
   "execution_count": 8,
   "id": "6a54ff97-f9ea-4fe5-825f-749306350270",
   "metadata": {},
   "outputs": [
    {
     "data": {
      "text/html": [
       "<div>\n",
       "<style scoped>\n",
       "    .dataframe tbody tr th:only-of-type {\n",
       "        vertical-align: middle;\n",
       "    }\n",
       "\n",
       "    .dataframe tbody tr th {\n",
       "        vertical-align: top;\n",
       "    }\n",
       "\n",
       "    .dataframe thead th {\n",
       "        text-align: right;\n",
       "    }\n",
       "</style>\n",
       "<table border=\"1\" class=\"dataframe\">\n",
       "  <thead>\n",
       "    <tr style=\"text-align: right;\">\n",
       "      <th></th>\n",
       "      <th>qid</th>\n",
       "      <th>qname</th>\n",
       "      <th>question</th>\n",
       "      <th>force_resp</th>\n",
       "      <th>type</th>\n",
       "      <th>selector</th>\n",
       "    </tr>\n",
       "  </thead>\n",
       "  <tbody>\n",
       "    <tr>\n",
       "      <th>12</th>\n",
       "      <td>QID32</td>\n",
       "      <td>YearsCode</td>\n",
       "      <td>Including any education, how many years have y...</td>\n",
       "      <td>False</td>\n",
       "      <td>MC</td>\n",
       "      <td>DL</td>\n",
       "    </tr>\n",
       "    <tr>\n",
       "      <th>13</th>\n",
       "      <td>QID34</td>\n",
       "      <td>YearsCodePro</td>\n",
       "      <td>NOT including education, how many years have y...</td>\n",
       "      <td>False</td>\n",
       "      <td>MC</td>\n",
       "      <td>DL</td>\n",
       "    </tr>\n",
       "  </tbody>\n",
       "</table>\n",
       "</div>"
      ],
      "text/plain": [
       "      qid         qname                                           question  \\\n",
       "12  QID32     YearsCode  Including any education, how many years have y...   \n",
       "13  QID34  YearsCodePro  NOT including education, how many years have y...   \n",
       "\n",
       "   force_resp type selector  \n",
       "12      False   MC       DL  \n",
       "13      False   MC       DL  "
      ]
     },
     "execution_count": 8,
     "metadata": {},
     "output_type": "execute_result"
    }
   ],
   "source": [
    "# Check if there are any other questions about Years\n",
    "schema_2022[schema_2022['qname'].str.contains('Years',regex=False)]"
   ]
  },
  {
   "cell_type": "code",
   "execution_count": 9,
   "id": "12315772-f41a-424f-acb9-148faa03d3f6",
   "metadata": {},
   "outputs": [
    {
     "data": {
      "text/html": [
       "<div>\n",
       "<style scoped>\n",
       "    .dataframe tbody tr th:only-of-type {\n",
       "        vertical-align: middle;\n",
       "    }\n",
       "\n",
       "    .dataframe tbody tr th {\n",
       "        vertical-align: top;\n",
       "    }\n",
       "\n",
       "    .dataframe thead th {\n",
       "        text-align: right;\n",
       "    }\n",
       "</style>\n",
       "<table border=\"1\" class=\"dataframe\">\n",
       "  <thead>\n",
       "    <tr style=\"text-align: right;\">\n",
       "      <th></th>\n",
       "      <th>qid</th>\n",
       "      <th>qname</th>\n",
       "      <th>question</th>\n",
       "      <th>force_resp</th>\n",
       "      <th>type</th>\n",
       "      <th>selector</th>\n",
       "    </tr>\n",
       "  </thead>\n",
       "  <tbody>\n",
       "    <tr>\n",
       "      <th>23</th>\n",
       "      <td>QID233</td>\n",
       "      <td>Language</td>\n",
       "      <td>Which &lt;b&gt;programming, scripting, and markup la...</td>\n",
       "      <td>False</td>\n",
       "      <td>Matrix</td>\n",
       "      <td>Likert</td>\n",
       "    </tr>\n",
       "  </tbody>\n",
       "</table>\n",
       "</div>"
      ],
      "text/plain": [
       "       qid     qname                                           question  \\\n",
       "23  QID233  Language  Which <b>programming, scripting, and markup la...   \n",
       "\n",
       "   force_resp    type selector  \n",
       "23      False  Matrix   Likert  "
      ]
     },
     "execution_count": 9,
     "metadata": {},
     "output_type": "execute_result"
    }
   ],
   "source": [
    "# Check if there are any other questions about Language\n",
    "schema_2022[schema_2022['qname'].str.contains('Language',regex=False)]"
   ]
  },
  {
   "cell_type": "code",
   "execution_count": 10,
   "id": "e40ef3ea-db51-4107-84e5-24f2e8058c93",
   "metadata": {},
   "outputs": [
    {
     "data": {
      "text/plain": [
       "HTML/CSS;JavaScript;TypeScript                                                              1250\n",
       "Python                                                                                       962\n",
       "HTML/CSS;JavaScript                                                                          914\n",
       "HTML/CSS;JavaScript;PHP;SQL                                                                  745\n",
       "C#;HTML/CSS;JavaScript;SQL;TypeScript                                                        570\n",
       "                                                                                            ... \n",
       "C#;Java;JavaScript;PHP;PowerShell;SQL;TypeScript                                               1\n",
       "C++;HTML/CSS;JavaScript;Python;Solidity;SQL                                                    1\n",
       "Dart;Haskell;HTML/CSS;Java;R;SQL;TypeScript                                                    1\n",
       "Bash/Shell;C;C#;Go;HTML/CSS;Java;JavaScript;Lua;Perl;PHP;Python;Ruby;Rust;SQL;TypeScript       1\n",
       "C#;JavaScript;Lua;PowerShell;SQL;TypeScript                                                    1\n",
       "Name: LanguageHaveWorkedWith, Length: 25068, dtype: int64"
      ]
     },
     "execution_count": 10,
     "metadata": {},
     "output_type": "execute_result"
    }
   ],
   "source": [
    "# Get an idea about the values of the LanguageHaveWorkedWith column \n",
    "language_vals = df_2022['LanguageHaveWorkedWith'].value_counts()\n",
    "language_vals"
   ]
  },
  {
   "cell_type": "markdown",
   "id": "2235f08a-a9b4-47d3-aa65-e69664f4413c",
   "metadata": {},
   "source": [
    "#### Prepare Data\n",
    "* Wrangle and Clean  \n",
    "Looking into the values of the LanguageHaveWorkedWith column we can see that these are separated by a ';' and that more that one answers are included for each response. In the following cells I declare and use the clean_and_plot function in order to separate the responses and count how often each programming language is used. "
   ]
  },
  {
   "cell_type": "code",
   "execution_count": 11,
   "id": "7ca9610d-8e37-4395-be54-1181a9561186",
   "metadata": {},
   "outputs": [
    {
     "data": {
      "image/png": "[encoded data removed]",
      "text/plain": [
       "<Figure size 432x288 with 1 Axes>"
      ]
     },
     "metadata": {
      "needs_background": "light"
     },
     "output_type": "display_data"
    }
   ],
   "source": [
    "# The LanguageHaveWorkedWith column has values that need to be separated\n",
    "# The clean_and_plot function will do that and provide a percent for each language option\n",
    "# I got some help from here: https://www.pauldesalvo.com/how-to-break-up-a-comma-separated-string-in-a-pandas-column/\n",
    "\n",
    "def clean_and_plot(df, col, title, plot):\n",
    "    '''\n",
    "    INPUT \n",
    "        df - a dataframe holding a column that needs cleaning\n",
    "        title - string the title of your plot\n",
    "        axis - axis object\n",
    "        plot - bool providing whether or not you want a plot back\n",
    "        \n",
    "    OUTPUT\n",
    "        study_df - a dataframe with the count of how many individuals\n",
    "        Displays a plot of pretty things related to the given column.\n",
    "    '''\n",
    "    \n",
    "    # Get the combinations of the column values \n",
    "    possible_vals = df[col].str.split(';', expand=False)\n",
    "    # Find a list with the distinct values from the combinations\n",
    "    vals_list = possible_vals.explode().unique()\n",
    "    # Get a list of all the distinct values in the column\n",
    "    unique_vals = [val.strip() for sublist in df[col].dropna().str.split(\";\").tolist() for val in sublist]\n",
    "    # Get a count of each distinct value\n",
    "    column_summary = pd.DataFrame(unique_vals,columns=[col]).value_counts().reset_index().rename(columns={0:'count'})\n",
    "    # Set the column as index to the dataframe\n",
    "    column_summary.set_index(col, inplace=True)\n",
    "    \n",
    "    #print(\"SUM\", column_summary.sum())\n",
    "    \n",
    "    if plot:\n",
    "        (column_summary/column_summary.sum()).plot(kind='bar', legend=None);\n",
    "        plt.title(title);\n",
    "        plt.show()\n",
    "    column_summary_perc = column_summary/column_summary.sum()\n",
    "    return column_summary_perc\n",
    "    \n",
    "props_df = clean_and_plot(df_2022, 'LanguageHaveWorkedWith', 'Which language(s) have you worked with?', True)"
   ]
  },
  {
   "cell_type": "code",
   "execution_count": 12,
   "id": "38202bad-616a-4362-85e2-6b7abfecaebb",
   "metadata": {},
   "outputs": [
    {
     "data": {
      "text/plain": [
       "3                     4261\n",
       "5                     4057\n",
       "2                     3945\n",
       "4                     3884\n",
       "10                    3333\n",
       "6                     3184\n",
       "7                     2760\n",
       "8                     2646\n",
       "1                     2644\n",
       "Less than 1 year      1972\n",
       "15                    1822\n",
       "12                    1711\n",
       "9                     1583\n",
       "20                    1472\n",
       "11                    1369\n",
       "14                    1048\n",
       "22                     933\n",
       "16                     921\n",
       "13                     914\n",
       "25                     877\n",
       "18                     787\n",
       "17                     723\n",
       "30                     568\n",
       "23                     463\n",
       "24                     454\n",
       "21                     429\n",
       "19                     380\n",
       "26                     320\n",
       "27                     286\n",
       "35                     266\n",
       "28                     254\n",
       "32                     223\n",
       "40                     175\n",
       "29                     126\n",
       "33                     122\n",
       "31                     121\n",
       "34                     113\n",
       "36                     111\n",
       "37                     100\n",
       "38                      96\n",
       "42                      67\n",
       "45                      52\n",
       "39                      51\n",
       "41                      42\n",
       "More than 50 years      41\n",
       "43                      31\n",
       "44                      26\n",
       "46                      19\n",
       "48                      18\n",
       "50                      14\n",
       "47                      10\n",
       "49                       9\n",
       "Name: YearsCodePro, dtype: int64"
      ]
     },
     "execution_count": 12,
     "metadata": {},
     "output_type": "execute_result"
    }
   ],
   "source": [
    "# Check out the values of the YearsCodePro column\n",
    "df_2022['YearsCodePro'].value_counts()"
   ]
  },
  {
   "cell_type": "code",
   "execution_count": 22,
   "id": "111fe271-1aee-424b-9d36-79ad04ac546b",
   "metadata": {},
   "outputs": [
    {
     "name": "stderr",
     "output_type": "stream",
     "text": [
      "/var/folders/pz/h6v6tlgx0h55sh0774vn5c4c0000gp/T/ipykernel_19954/3086768438.py:3: SettingWithCopyWarning: \n",
      "A value is trying to be set on a copy of a slice from a DataFrame.\n",
      "Try using .loc[row_indexer,col_indexer] = value instead\n",
      "\n",
      "See the caveats in the documentation: https://pandas.pydata.org/pandas-docs/stable/user_guide/indexing.html#returning-a-view-versus-a-copy\n",
      "  df_2022_yrs['YearsCodePro'] = df_2022_yrs['YearsCodePro'].replace('Less than 1 year', 0)\n",
      "/var/folders/pz/h6v6tlgx0h55sh0774vn5c4c0000gp/T/ipykernel_19954/3086768438.py:4: SettingWithCopyWarning: \n",
      "A value is trying to be set on a copy of a slice from a DataFrame.\n",
      "Try using .loc[row_indexer,col_indexer] = value instead\n",
      "\n",
      "See the caveats in the documentation: https://pandas.pydata.org/pandas-docs/stable/user_guide/indexing.html#returning-a-view-versus-a-copy\n",
      "  df_2022_yrs['YearsCodePro'] = df_2022_yrs['YearsCodePro'].replace('More than 50 years', 51)\n"
     ]
    },
    {
     "data": {
      "text/plain": [
       "3     4261\n",
       "5     4057\n",
       "2     3945\n",
       "4     3884\n",
       "10    3333\n",
       "6     3184\n",
       "7     2760\n",
       "8     2646\n",
       "1     2644\n",
       "0     1972\n",
       "15    1822\n",
       "12    1711\n",
       "9     1583\n",
       "20    1472\n",
       "11    1369\n",
       "14    1048\n",
       "22     933\n",
       "16     921\n",
       "13     914\n",
       "25     877\n",
       "18     787\n",
       "17     723\n",
       "30     568\n",
       "23     463\n",
       "24     454\n",
       "21     429\n",
       "19     380\n",
       "26     320\n",
       "27     286\n",
       "35     266\n",
       "28     254\n",
       "32     223\n",
       "40     175\n",
       "29     126\n",
       "33     122\n",
       "31     121\n",
       "34     113\n",
       "36     111\n",
       "37     100\n",
       "38      96\n",
       "42      67\n",
       "45      52\n",
       "39      51\n",
       "41      42\n",
       "51      41\n",
       "43      31\n",
       "44      26\n",
       "46      19\n",
       "48      18\n",
       "50      14\n",
       "47      10\n",
       "49       9\n",
       "Name: YearsCodePro, dtype: int64"
      ]
     },
     "execution_count": 22,
     "metadata": {},
     "output_type": "execute_result"
    }
   ],
   "source": [
    "# Convert string values to numeric\n",
    "df_2022_yrs = df_2022[['ResponseId','YearsCodePro','Employment','RemoteWork', 'LanguageHaveWorkedWith']]\n",
    "df_2022_yrs['YearsCodePro'] = df_2022_yrs['YearsCodePro'].replace('Less than 1 year', 0)\n",
    "df_2022_yrs['YearsCodePro'] = df_2022_yrs['YearsCodePro'].replace('More than 50 years', 51)\n",
    "df_2022_yrs['YearsCodePro'].value_counts()"
   ]
  },
  {
   "cell_type": "markdown",
   "id": "5d5d01c2-d838-4985-8562-401c4677ccff",
   "metadata": {},
   "source": [
    "#### Prepare Data\n",
    "* Wrangle and Clean  \n",
    "In the following cells I handle null/NaN values and I ensure that they are of the same data type."
   ]
  },
  {
   "cell_type": "code",
   "execution_count": 23,
   "id": "ef41c524-307c-4849-adb2-c72ff2f39453",
   "metadata": {},
   "outputs": [
    {
     "data": {
      "text/plain": [
       "21435"
      ]
     },
     "execution_count": 23,
     "metadata": {},
     "output_type": "execute_result"
    }
   ],
   "source": [
    "# Check if there are null values\n",
    "df_2022_yrs['YearsCodePro'].isnull().sum()"
   ]
  },
  {
   "cell_type": "code",
   "execution_count": 24,
   "id": "94cefadb-c4e5-49af-8cde-123ca65cc54e",
   "metadata": {},
   "outputs": [
    {
     "data": {
      "text/plain": [
       "0"
      ]
     },
     "execution_count": 24,
     "metadata": {},
     "output_type": "execute_result"
    }
   ],
   "source": [
    "# Remove rows with null values for YearsCodePro\n",
    "df_2022_yrs = df_2022_yrs.dropna(subset=['YearsCodePro'], axis=0)\n",
    "df_2022_yrs['YearsCodePro'].isnull().sum()"
   ]
  },
  {
   "cell_type": "code",
   "execution_count": 25,
   "id": "03f3fa07-c032-4e6e-9895-a3f3bcc174ea",
   "metadata": {},
   "outputs": [],
   "source": [
    "# Convert all YearsCodePro values to int\n",
    "df_2022_yrs = df_2022_yrs.astype({'YearsCodePro':'int'})"
   ]
  },
  {
   "cell_type": "markdown",
   "id": "c5b6503e-ad71-41c2-9081-de85ef709e72",
   "metadata": {},
   "source": [
    "#### Question 1 - Which programming languages are used by the most experienced developers?\n",
    "* Analyse  \n",
    "Here I separate the data into 2 categories: 'less than 15' and '15 and over' years of professional experience. I create another column that has the category for each row of the dataset and then I split the dataset in two subsets. For each of the subsets I calculate the percentage that each programming language has in the responses. After that I merge the two subsets and calculate the difference of the percentage between the two categories for every programming language. \n",
    "* Visualise  \n",
    "Then I present the findings in a table that has the programming languages, the percentage of each group for every programming language and the difference between the two groups. \n",
    "* Explain the visualisation  \n",
    "The difference between the two groups is visualised by using colours. The colours are used to highlight the preferences between the two groups: \n",
    "    - The blue colour is used to highlight that the 'less than 15' years group has a higher percentage. \n",
    "    - The orange colour is used to highlight that the '15 and over' years group has a higher percentage.  \n",
    "    - The length of the colour bar is used to signify how big the difference is between the percentages of the two groups. For example, we can see that Bash/Shell, SQL, Delphi and C# are more popular with the ‘15 and over’ developers, while the ‘less than 15’ years group shows preference for Python, HTML/CSS and JavaScript."
   ]
  },
  {
   "cell_type": "code",
   "execution_count": 26,
   "id": "e436d507-f690-468a-b876-13c034d72709",
   "metadata": {},
   "outputs": [
    {
     "data": {
      "text/html": [
       "<div>\n",
       "<style scoped>\n",
       "    .dataframe tbody tr th:only-of-type {\n",
       "        vertical-align: middle;\n",
       "    }\n",
       "\n",
       "    .dataframe tbody tr th {\n",
       "        vertical-align: top;\n",
       "    }\n",
       "\n",
       "    .dataframe thead th {\n",
       "        text-align: right;\n",
       "    }\n",
       "</style>\n",
       "<table border=\"1\" class=\"dataframe\">\n",
       "  <thead>\n",
       "    <tr style=\"text-align: right;\">\n",
       "      <th></th>\n",
       "      <th>ResponseId</th>\n",
       "      <th>YearsCodePro</th>\n",
       "      <th>Employment</th>\n",
       "      <th>RemoteWork</th>\n",
       "      <th>LanguageHaveWorkedWith</th>\n",
       "      <th>Bin_YearsCodePro</th>\n",
       "    </tr>\n",
       "  </thead>\n",
       "  <tbody>\n",
       "    <tr>\n",
       "      <th>2</th>\n",
       "      <td>3</td>\n",
       "      <td>5</td>\n",
       "      <td>Employed, full-time</td>\n",
       "      <td>Hybrid (some remote, some in-person)</td>\n",
       "      <td>C#;C++;HTML/CSS;JavaScript;Python</td>\n",
       "      <td>less than 15</td>\n",
       "    </tr>\n",
       "    <tr>\n",
       "      <th>3</th>\n",
       "      <td>4</td>\n",
       "      <td>17</td>\n",
       "      <td>Employed, full-time</td>\n",
       "      <td>Fully remote</td>\n",
       "      <td>C#;JavaScript;SQL;TypeScript</td>\n",
       "      <td>15 and over</td>\n",
       "    </tr>\n",
       "    <tr>\n",
       "      <th>4</th>\n",
       "      <td>5</td>\n",
       "      <td>3</td>\n",
       "      <td>Employed, full-time</td>\n",
       "      <td>Hybrid (some remote, some in-person)</td>\n",
       "      <td>C#;HTML/CSS;JavaScript;SQL;Swift;TypeScript</td>\n",
       "      <td>less than 15</td>\n",
       "    </tr>\n",
       "    <tr>\n",
       "      <th>8</th>\n",
       "      <td>9</td>\n",
       "      <td>6</td>\n",
       "      <td>Employed, full-time</td>\n",
       "      <td>Hybrid (some remote, some in-person)</td>\n",
       "      <td>NaN</td>\n",
       "      <td>less than 15</td>\n",
       "    </tr>\n",
       "    <tr>\n",
       "      <th>9</th>\n",
       "      <td>10</td>\n",
       "      <td>30</td>\n",
       "      <td>Independent contractor, freelancer, or self-em...</td>\n",
       "      <td>Fully remote</td>\n",
       "      <td>Delphi;Java;Swift</td>\n",
       "      <td>15 and over</td>\n",
       "    </tr>\n",
       "  </tbody>\n",
       "</table>\n",
       "</div>"
      ],
      "text/plain": [
       "   ResponseId  YearsCodePro  \\\n",
       "2           3             5   \n",
       "3           4            17   \n",
       "4           5             3   \n",
       "8           9             6   \n",
       "9          10            30   \n",
       "\n",
       "                                          Employment  \\\n",
       "2                                Employed, full-time   \n",
       "3                                Employed, full-time   \n",
       "4                                Employed, full-time   \n",
       "8                                Employed, full-time   \n",
       "9  Independent contractor, freelancer, or self-em...   \n",
       "\n",
       "                             RemoteWork  \\\n",
       "2  Hybrid (some remote, some in-person)   \n",
       "3                          Fully remote   \n",
       "4  Hybrid (some remote, some in-person)   \n",
       "8  Hybrid (some remote, some in-person)   \n",
       "9                          Fully remote   \n",
       "\n",
       "                        LanguageHaveWorkedWith Bin_YearsCodePro  \n",
       "2            C#;C++;HTML/CSS;JavaScript;Python     less than 15  \n",
       "3                 C#;JavaScript;SQL;TypeScript      15 and over  \n",
       "4  C#;HTML/CSS;JavaScript;SQL;Swift;TypeScript     less than 15  \n",
       "8                                          NaN     less than 15  \n",
       "9                            Delphi;Java;Swift      15 and over  "
      ]
     },
     "execution_count": 26,
     "metadata": {},
     "output_type": "execute_result"
    }
   ],
   "source": [
    "cut_labels = ['less than 15', '15 and over']\n",
    "cut_bins = [0, 15, 60]\n",
    "df_2022_yrs['Bin_YearsCodePro'] = pd.cut(df_2022_yrs['YearsCodePro'], bins=cut_bins, labels=cut_labels, include_lowest = True)\n",
    "df_2022_yrs.head()"
   ]
  },
  {
   "cell_type": "code",
   "execution_count": 27,
   "id": "561c836c-09a8-4d9b-8a9a-12cdaf0dd6a1",
   "metadata": {},
   "outputs": [
    {
     "data": {
      "text/plain": [
       "0"
      ]
     },
     "execution_count": 27,
     "metadata": {},
     "output_type": "execute_result"
    }
   ],
   "source": [
    "# Check that there are no NaN values\n",
    "df_2022_yrs['Bin_YearsCodePro'].isnull().sum()"
   ]
  },
  {
   "cell_type": "code",
   "execution_count": 28,
   "id": "0699a0a0-d128-4fa6-916a-632bf5fbf356",
   "metadata": {},
   "outputs": [],
   "source": [
    "yrs_1 = df_2022_yrs[df_2022_yrs['Bin_YearsCodePro'] == '15 and over'] # Subset df to only those with YearsCodePro [less than a year-15)\n",
    "yrs_0 = df_2022_yrs[df_2022_yrs['Bin_YearsCodePro'] == 'less than 15'] # Subset df to only those with YearsCodePro [15-over 50)"
   ]
  },
  {
   "cell_type": "code",
   "execution_count": 29,
   "id": "b92c2588-e257-4a40-93ae-d79d9d62c21e",
   "metadata": {},
   "outputs": [
    {
     "data": {
      "text/html": [
       "<style type=\"text/css\">\n",
       "#T_e21f7_row0_col2 {\n",
       "  width: 10em;\n",
       "  background: linear-gradient(90deg, transparent 9.5%, #89CFF0 9.5%, #89CFF0 51.5%, transparent 51.5%);\n",
       "}\n",
       "#T_e21f7_row1_col2 {\n",
       "  width: 10em;\n",
       "  background: linear-gradient(90deg, transparent 51.5%, #FFA500 51.5%, #FFA500 74.4%, transparent 74.4%);\n",
       "}\n",
       "#T_e21f7_row2_col2 {\n",
       "  width: 10em;\n",
       "  background: linear-gradient(90deg, transparent 15.2%, #89CFF0 15.2%, #89CFF0 51.5%, transparent 51.5%);\n",
       "}\n",
       "#T_e21f7_row3_col2 {\n",
       "  width: 10em;\n",
       "  background: linear-gradient(90deg, transparent 12.8%, #89CFF0 12.8%, #89CFF0 51.5%, transparent 51.5%);\n",
       "}\n",
       "#T_e21f7_row4_col2 {\n",
       "  width: 10em;\n",
       "  background: linear-gradient(90deg, transparent 51.5%, #FFA500 51.5%, #FFA500 79.7%, transparent 79.7%);\n",
       "}\n",
       "#T_e21f7_row5_col2 {\n",
       "  width: 10em;\n",
       "  background: linear-gradient(90deg, transparent 51.5%, #FFA500 51.5%, #FFA500 73.8%, transparent 73.8%);\n",
       "}\n",
       "#T_e21f7_row6_col2 {\n",
       "  width: 10em;\n",
       "  background: linear-gradient(90deg, #89CFF0 51.5%, transparent 51.5%);\n",
       "}\n",
       "#T_e21f7_row7_col2 {\n",
       "  width: 10em;\n",
       "  background: linear-gradient(90deg, transparent 34.9%, #89CFF0 34.9%, #89CFF0 51.5%, transparent 51.5%);\n",
       "}\n",
       "#T_e21f7_row8_col2 {\n",
       "  width: 10em;\n",
       "  background: linear-gradient(90deg, transparent 44.7%, #89CFF0 44.7%, #89CFF0 51.5%, transparent 51.5%);\n",
       "}\n",
       "#T_e21f7_row9_col2 {\n",
       "  width: 10em;\n",
       "  background: linear-gradient(90deg, transparent 51.5%, #FFA500 51.5%, #FFA500 61.2%, transparent 61.2%);\n",
       "}\n",
       "#T_e21f7_row10_col2 {\n",
       "  width: 10em;\n",
       "  background: linear-gradient(90deg, transparent 51.5%, #FFA500 51.5%, #FFA500 68.7%, transparent 68.7%);\n",
       "}\n",
       "#T_e21f7_row11_col2 {\n",
       "  width: 10em;\n",
       "  background: linear-gradient(90deg, transparent 51.5%, #FFA500 51.5%, #FFA500 69.0%, transparent 69.0%);\n",
       "}\n",
       "#T_e21f7_row12_col2 {\n",
       "  width: 10em;\n",
       "  background: linear-gradient(90deg, transparent 51.5%, #FFA500 51.5%, #FFA500 100.0%, transparent 100.0%);\n",
       "}\n",
       "#T_e21f7_row13_col2 {\n",
       "  width: 10em;\n",
       "  background: linear-gradient(90deg, transparent 47.7%, #89CFF0 47.7%, #89CFF0 51.5%, transparent 51.5%);\n",
       "}\n",
       "#T_e21f7_row14_col2 {\n",
       "  width: 10em;\n",
       "  background: linear-gradient(90deg, transparent 51.5%, #FFA500 51.5%, #FFA500 53.8%, transparent 53.8%);\n",
       "}\n",
       "#T_e21f7_row15_col2 {\n",
       "  width: 10em;\n",
       "  background: linear-gradient(90deg, transparent 51.5%, #FFA500 51.5%, #FFA500 62.4%, transparent 62.4%);\n",
       "}\n",
       "#T_e21f7_row16_col2 {\n",
       "  width: 10em;\n",
       "  background: linear-gradient(90deg, transparent 37.1%, #89CFF0 37.1%, #89CFF0 51.5%, transparent 51.5%);\n",
       "}\n",
       "#T_e21f7_row17_col2 {\n",
       "  width: 10em;\n",
       "  background: linear-gradient(90deg, transparent 42.8%, #89CFF0 42.8%, #89CFF0 51.5%, transparent 51.5%);\n",
       "}\n",
       "#T_e21f7_row18_col2 {\n",
       "  width: 10em;\n",
       "  background: linear-gradient(90deg, transparent 51.5%, #FFA500 51.5%, #FFA500 69.8%, transparent 69.8%);\n",
       "}\n",
       "#T_e21f7_row19_col2 {\n",
       "  width: 10em;\n",
       "  background: linear-gradient(90deg, transparent 51.5%, #FFA500 51.5%, #FFA500 61.8%, transparent 61.8%);\n",
       "}\n",
       "#T_e21f7_row20_col2 {\n",
       "  width: 10em;\n",
       "  background: linear-gradient(90deg, transparent 50.2%, #89CFF0 50.2%, #89CFF0 51.5%, transparent 51.5%);\n",
       "}\n",
       "#T_e21f7_row21_col2 {\n",
       "  width: 10em;\n",
       "  background: linear-gradient(90deg, transparent 51.5%, #FFA500 51.5%, #FFA500 55.4%, transparent 55.4%);\n",
       "}\n",
       "#T_e21f7_row22_col2 {\n",
       "  width: 10em;\n",
       "  background: linear-gradient(90deg, transparent 51.5%, #FFA500 51.5%, #FFA500 55.8%, transparent 55.8%);\n",
       "}\n",
       "#T_e21f7_row23_col2 {\n",
       "  width: 10em;\n",
       "  background: linear-gradient(90deg, transparent 39.2%, #89CFF0 39.2%, #89CFF0 51.5%, transparent 51.5%);\n",
       "}\n",
       "#T_e21f7_row24_col2 {\n",
       "  width: 10em;\n",
       "  background: linear-gradient(90deg, transparent 48.1%, #89CFF0 48.1%, #89CFF0 51.5%, transparent 51.5%);\n",
       "}\n",
       "#T_e21f7_row25_col2 {\n",
       "  width: 10em;\n",
       "  background: linear-gradient(90deg, transparent 51.5%, #FFA500 51.5%, #FFA500 52.4%, transparent 52.4%);\n",
       "}\n",
       "#T_e21f7_row26_col2, #T_e21f7_row40_col2 {\n",
       "  width: 10em;\n",
       "  background: linear-gradient(90deg, transparent 51.0%, #89CFF0 51.0%, #89CFF0 51.5%, transparent 51.5%);\n",
       "}\n",
       "#T_e21f7_row27_col2 {\n",
       "  width: 10em;\n",
       "  background: linear-gradient(90deg, transparent 51.5%, #FFA500 51.5%, #FFA500 52.6%, transparent 52.6%);\n",
       "}\n",
       "#T_e21f7_row28_col2 {\n",
       "  width: 10em;\n",
       "  background: linear-gradient(90deg, transparent 51.5%, #FFA500 51.5%, #FFA500 54.8%, transparent 54.8%);\n",
       "}\n",
       "#T_e21f7_row29_col2 {\n",
       "  width: 10em;\n",
       "  background: linear-gradient(90deg, transparent 46.5%, #89CFF0 46.5%, #89CFF0 51.5%, transparent 51.5%);\n",
       "}\n",
       "#T_e21f7_row30_col2 {\n",
       "  width: 10em;\n",
       "  background: linear-gradient(90deg, transparent 51.5%, #FFA500 51.5%, #FFA500 56.1%, transparent 56.1%);\n",
       "}\n",
       "#T_e21f7_row31_col2 {\n",
       "  width: 10em;\n",
       "  background: linear-gradient(90deg, transparent 51.5%, #FFA500 51.5%, #FFA500 56.8%, transparent 56.8%);\n",
       "}\n",
       "#T_e21f7_row32_col2 {\n",
       "  width: 10em;\n",
       "  background: linear-gradient(90deg, transparent 51.5%, #FFA500 51.5%, #FFA500 54.3%, transparent 54.3%);\n",
       "}\n",
       "#T_e21f7_row33_col2 {\n",
       "  width: 10em;\n",
       "  background: linear-gradient(90deg, transparent 51.5%, #FFA500 51.5%, #FFA500 56.2%, transparent 56.2%);\n",
       "}\n",
       "#T_e21f7_row34_col2 {\n",
       "  width: 10em;\n",
       "  background: linear-gradient(90deg, transparent 51.3%, #89CFF0 51.3%, #89CFF0 51.5%, transparent 51.5%);\n",
       "}\n",
       "#T_e21f7_row35_col2 {\n",
       "  width: 10em;\n",
       "  background: linear-gradient(90deg, transparent 51.5%, #FFA500 51.5%, #FFA500 52.1%, transparent 52.1%);\n",
       "}\n",
       "#T_e21f7_row36_col2 {\n",
       "  width: 10em;\n",
       "  background: linear-gradient(90deg, transparent 51.5%, #FFA500 51.5%, #FFA500 53.2%, transparent 53.2%);\n",
       "}\n",
       "#T_e21f7_row37_col2 {\n",
       "  width: 10em;\n",
       "  background: linear-gradient(90deg, transparent 49.2%, #89CFF0 49.2%, #89CFF0 51.5%, transparent 51.5%);\n",
       "}\n",
       "#T_e21f7_row38_col2 {\n",
       "  width: 10em;\n",
       "  background: linear-gradient(90deg, transparent 51.5%, #FFA500 51.5%, #FFA500 53.5%, transparent 53.5%);\n",
       "}\n",
       "#T_e21f7_row39_col2 {\n",
       "  width: 10em;\n",
       "  background: linear-gradient(90deg, transparent 51.5%, #FFA500 51.5%, #FFA500 52.8%, transparent 52.8%);\n",
       "}\n",
       "#T_e21f7_row41_col2 {\n",
       "  width: 10em;\n",
       "  background: linear-gradient(90deg, transparent 51.4%, #89CFF0 51.4%, #89CFF0 51.5%, transparent 51.5%);\n",
       "}\n",
       "</style>\n",
       "<table id=\"T_e21f7\">\n",
       "  <thead>\n",
       "    <tr>\n",
       "      <th class=\"blank level0\" >&nbsp;</th>\n",
       "      <th id=\"T_e21f7_level0_col0\" class=\"col_heading level0 col0\" >yrs_15_and_over</th>\n",
       "      <th id=\"T_e21f7_level0_col1\" class=\"col_heading level0 col1\" >yrs_less_than_15</th>\n",
       "      <th id=\"T_e21f7_level0_col2\" class=\"col_heading level0 col2\" >Diff_YearsCode_Vals</th>\n",
       "    </tr>\n",
       "    <tr>\n",
       "      <th class=\"index_name level0\" >LanguageHaveWorkedWith</th>\n",
       "      <th class=\"blank col0\" >&nbsp;</th>\n",
       "      <th class=\"blank col1\" >&nbsp;</th>\n",
       "      <th class=\"blank col2\" >&nbsp;</th>\n",
       "    </tr>\n",
       "  </thead>\n",
       "  <tbody>\n",
       "    <tr>\n",
       "      <th id=\"T_e21f7_level0_row0\" class=\"row_heading level0 row0\" >JavaScript</th>\n",
       "      <td id=\"T_e21f7_row0_col0\" class=\"data row0 col0\" >0.115357</td>\n",
       "      <td id=\"T_e21f7_row0_col1\" class=\"data row0 col1\" >0.135277</td>\n",
       "      <td id=\"T_e21f7_row0_col2\" class=\"data row0 col2\" >-0.019920</td>\n",
       "    </tr>\n",
       "    <tr>\n",
       "      <th id=\"T_e21f7_level0_row1\" class=\"row_heading level0 row1\" >SQL</th>\n",
       "      <td id=\"T_e21f7_row1_col0\" class=\"data row1 col0\" >0.113497</td>\n",
       "      <td id=\"T_e21f7_row1_col1\" class=\"data row1 col1\" >0.102637</td>\n",
       "      <td id=\"T_e21f7_row1_col2\" class=\"data row1 col2\" >0.010860</td>\n",
       "    </tr>\n",
       "    <tr>\n",
       "      <th id=\"T_e21f7_level0_row2\" class=\"row_heading level0 row2\" >HTML/CSS</th>\n",
       "      <td id=\"T_e21f7_row2_col0\" class=\"data row2 col0\" >0.091863</td>\n",
       "      <td id=\"T_e21f7_row2_col1\" class=\"data row2 col1\" >0.109088</td>\n",
       "      <td id=\"T_e21f7_row2_col2\" class=\"data row2 col2\" >-0.017225</td>\n",
       "    </tr>\n",
       "    <tr>\n",
       "      <th id=\"T_e21f7_level0_row3\" class=\"row_heading level0 row3\" >Python</th>\n",
       "      <td id=\"T_e21f7_row3_col0\" class=\"data row3 col0\" >0.070536</td>\n",
       "      <td id=\"T_e21f7_row3_col1\" class=\"data row3 col1\" >0.088866</td>\n",
       "      <td id=\"T_e21f7_row3_col2\" class=\"data row3 col2\" >-0.018330</td>\n",
       "    </tr>\n",
       "    <tr>\n",
       "      <th id=\"T_e21f7_level0_row4\" class=\"row_heading level0 row4\" >C#</th>\n",
       "      <td id=\"T_e21f7_row4_col0\" class=\"data row4 col0\" >0.068225</td>\n",
       "      <td id=\"T_e21f7_row4_col1\" class=\"data row4 col1\" >0.054853</td>\n",
       "      <td id=\"T_e21f7_row4_col2\" class=\"data row4 col2\" >0.013372</td>\n",
       "    </tr>\n",
       "    <tr>\n",
       "      <th id=\"T_e21f7_level0_row5\" class=\"row_heading level0 row5\" >Bash/Shell</th>\n",
       "      <td id=\"T_e21f7_row5_col0\" class=\"data row5 col0\" >0.067936</td>\n",
       "      <td id=\"T_e21f7_row5_col1\" class=\"data row5 col1\" >0.057372</td>\n",
       "      <td id=\"T_e21f7_row5_col2\" class=\"data row5 col2\" >0.010564</td>\n",
       "    </tr>\n",
       "    <tr>\n",
       "      <th id=\"T_e21f7_level0_row6\" class=\"row_heading level0 row6\" >TypeScript</th>\n",
       "      <td id=\"T_e21f7_row6_col0\" class=\"data row6 col0\" >0.056288</td>\n",
       "      <td id=\"T_e21f7_row6_col1\" class=\"data row6 col1\" >0.080711</td>\n",
       "      <td id=\"T_e21f7_row6_col2\" class=\"data row6 col2\" >-0.024423</td>\n",
       "    </tr>\n",
       "    <tr>\n",
       "      <th id=\"T_e21f7_level0_row7\" class=\"row_heading level0 row7\" >Java</th>\n",
       "      <td id=\"T_e21f7_row7_col0\" class=\"data row7 col0\" >0.055006</td>\n",
       "      <td id=\"T_e21f7_row7_col1\" class=\"data row7 col1\" >0.062894</td>\n",
       "      <td id=\"T_e21f7_row7_col2\" class=\"data row7 col2\" >-0.007888</td>\n",
       "    </tr>\n",
       "    <tr>\n",
       "      <th id=\"T_e21f7_level0_row8\" class=\"row_heading level0 row8\" >PHP</th>\n",
       "      <td id=\"T_e21f7_row8_col0\" class=\"data row8 col0\" >0.038916</td>\n",
       "      <td id=\"T_e21f7_row8_col1\" class=\"data row8 col1\" >0.042163</td>\n",
       "      <td id=\"T_e21f7_row8_col2\" class=\"data row8 col2\" >-0.003248</td>\n",
       "    </tr>\n",
       "    <tr>\n",
       "      <th id=\"T_e21f7_level0_row9\" class=\"row_heading level0 row9\" >C++</th>\n",
       "      <td id=\"T_e21f7_row9_col0\" class=\"data row9 col0\" >0.038862</td>\n",
       "      <td id=\"T_e21f7_row9_col1\" class=\"data row9 col1\" >0.034260</td>\n",
       "      <td id=\"T_e21f7_row9_col2\" class=\"data row9 col2\" >0.004601</td>\n",
       "    </tr>\n",
       "    <tr>\n",
       "      <th id=\"T_e21f7_level0_row10\" class=\"row_heading level0 row10\" >C</th>\n",
       "      <td id=\"T_e21f7_row10_col0\" class=\"data row10 col0\" >0.034925</td>\n",
       "      <td id=\"T_e21f7_row10_col1\" class=\"data row10 col1\" >0.026777</td>\n",
       "      <td id=\"T_e21f7_row10_col2\" class=\"data row10 col2\" >0.008148</td>\n",
       "    </tr>\n",
       "    <tr>\n",
       "      <th id=\"T_e21f7_level0_row11\" class=\"row_heading level0 row11\" >PowerShell</th>\n",
       "      <td id=\"T_e21f7_row11_col0\" class=\"data row11 col0\" >0.031729</td>\n",
       "      <td id=\"T_e21f7_row11_col1\" class=\"data row11 col1\" >0.023443</td>\n",
       "      <td id=\"T_e21f7_row11_col2\" class=\"data row11 col2\" >0.008286</td>\n",
       "    </tr>\n",
       "    <tr>\n",
       "      <th id=\"T_e21f7_level0_row12\" class=\"row_heading level0 row12\" >Delphi</th>\n",
       "      <td id=\"T_e21f7_row12_col0\" class=\"data row12 col0\" >0.026004</td>\n",
       "      <td id=\"T_e21f7_row12_col1\" class=\"data row12 col1\" >0.003003</td>\n",
       "      <td id=\"T_e21f7_row12_col2\" class=\"data row12 col2\" >0.023001</td>\n",
       "    </tr>\n",
       "    <tr>\n",
       "      <th id=\"T_e21f7_level0_row13\" class=\"row_heading level0 row13\" >Go</th>\n",
       "      <td id=\"T_e21f7_row13_col0\" class=\"data row13 col0\" >0.021905</td>\n",
       "      <td id=\"T_e21f7_row13_col1\" class=\"data row13 col1\" >0.023714</td>\n",
       "      <td id=\"T_e21f7_row13_col2\" class=\"data row13 col2\" >-0.001810</td>\n",
       "    </tr>\n",
       "    <tr>\n",
       "      <th id=\"T_e21f7_level0_row14\" class=\"row_heading level0 row14\" >Ruby</th>\n",
       "      <td id=\"T_e21f7_row14_col0\" class=\"data row14 col0\" >0.014736</td>\n",
       "      <td id=\"T_e21f7_row14_col1\" class=\"data row14 col1\" >0.013628</td>\n",
       "      <td id=\"T_e21f7_row14_col2\" class=\"data row14 col2\" >0.001108</td>\n",
       "    </tr>\n",
       "    <tr>\n",
       "      <th id=\"T_e21f7_level0_row15\" class=\"row_heading level0 row15\" >VBA</th>\n",
       "      <td id=\"T_e21f7_row15_col0\" class=\"data row15 col0\" >0.013417</td>\n",
       "      <td id=\"T_e21f7_row15_col1\" class=\"data row15 col1\" >0.008249</td>\n",
       "      <td id=\"T_e21f7_row15_col2\" class=\"data row15 col2\" >0.005168</td>\n",
       "    </tr>\n",
       "    <tr>\n",
       "      <th id=\"T_e21f7_level0_row16\" class=\"row_heading level0 row16\" >Kotlin</th>\n",
       "      <td id=\"T_e21f7_row16_col0\" class=\"data row16 col0\" >0.012496</td>\n",
       "      <td id=\"T_e21f7_row16_col1\" class=\"data row16 col1\" >0.019318</td>\n",
       "      <td id=\"T_e21f7_row16_col2\" class=\"data row16 col2\" >-0.006822</td>\n",
       "    </tr>\n",
       "    <tr>\n",
       "      <th id=\"T_e21f7_level0_row17\" class=\"row_heading level0 row17\" >Rust</th>\n",
       "      <td id=\"T_e21f7_row17_col0\" class=\"data row17 col0\" >0.012280</td>\n",
       "      <td id=\"T_e21f7_row17_col1\" class=\"data row17 col1\" >0.016419</td>\n",
       "      <td id=\"T_e21f7_row17_col2\" class=\"data row17 col2\" >-0.004139</td>\n",
       "    </tr>\n",
       "    <tr>\n",
       "      <th id=\"T_e21f7_level0_row18\" class=\"row_heading level0 row18\" >Perl</th>\n",
       "      <td id=\"T_e21f7_row18_col0\" class=\"data row18 col0\" >0.012009</td>\n",
       "      <td id=\"T_e21f7_row18_col1\" class=\"data row18 col1\" >0.003344</td>\n",
       "      <td id=\"T_e21f7_row18_col2\" class=\"data row18 col2\" >0.008665</td>\n",
       "    </tr>\n",
       "    <tr>\n",
       "      <th id=\"T_e21f7_level0_row19\" class=\"row_heading level0 row19\" >Assembly</th>\n",
       "      <td id=\"T_e21f7_row19_col0\" class=\"data row19 col0\" >0.010709</td>\n",
       "      <td id=\"T_e21f7_row19_col1\" class=\"data row19 col1\" >0.005829</td>\n",
       "      <td id=\"T_e21f7_row19_col2\" class=\"data row19 col2\" >0.004880</td>\n",
       "    </tr>\n",
       "    <tr>\n",
       "      <th id=\"T_e21f7_level0_row20\" class=\"row_heading level0 row20\" >Swift</th>\n",
       "      <td id=\"T_e21f7_row20_col0\" class=\"data row20 col0\" >0.009733</td>\n",
       "      <td id=\"T_e21f7_row20_col1\" class=\"data row20 col1\" >0.010343</td>\n",
       "      <td id=\"T_e21f7_row20_col2\" class=\"data row20 col2\" >-0.000610</td>\n",
       "    </tr>\n",
       "    <tr>\n",
       "      <th id=\"T_e21f7_level0_row21\" class=\"row_heading level0 row21\" >Groovy</th>\n",
       "      <td id=\"T_e21f7_row21_col0\" class=\"data row21 col0\" >0.009517</td>\n",
       "      <td id=\"T_e21f7_row21_col1\" class=\"data row21 col1\" >0.007686</td>\n",
       "      <td id=\"T_e21f7_row21_col2\" class=\"data row21 col2\" >0.001831</td>\n",
       "    </tr>\n",
       "    <tr>\n",
       "      <th id=\"T_e21f7_level0_row22\" class=\"row_heading level0 row22\" >Objective-C</th>\n",
       "      <td id=\"T_e21f7_row22_col0\" class=\"data row22 col0\" >0.007061</td>\n",
       "      <td id=\"T_e21f7_row22_col1\" class=\"data row22 col1\" >0.005028</td>\n",
       "      <td id=\"T_e21f7_row22_col2\" class=\"data row22 col2\" >0.002032</td>\n",
       "    </tr>\n",
       "    <tr>\n",
       "      <th id=\"T_e21f7_level0_row23\" class=\"row_heading level0 row23\" >Dart</th>\n",
       "      <td id=\"T_e21f7_row23_col0\" class=\"data row23 col0\" >0.006555</td>\n",
       "      <td id=\"T_e21f7_row23_col1\" class=\"data row23 col1\" >0.012398</td>\n",
       "      <td id=\"T_e21f7_row23_col2\" class=\"data row23 col2\" >-0.005843</td>\n",
       "    </tr>\n",
       "    <tr>\n",
       "      <th id=\"T_e21f7_level0_row24\" class=\"row_heading level0 row24\" >R</th>\n",
       "      <td id=\"T_e21f7_row24_col0\" class=\"data row24 col0\" >0.006447</td>\n",
       "      <td id=\"T_e21f7_row24_col1\" class=\"data row24 col1\" >0.008056</td>\n",
       "      <td id=\"T_e21f7_row24_col2\" class=\"data row24 col2\" >-0.001609</td>\n",
       "    </tr>\n",
       "    <tr>\n",
       "      <th id=\"T_e21f7_level0_row25\" class=\"row_heading level0 row25\" >Lua</th>\n",
       "      <td id=\"T_e21f7_row25_col0\" class=\"data row25 col0\" >0.006284</td>\n",
       "      <td id=\"T_e21f7_row25_col1\" class=\"data row25 col1\" >0.005878</td>\n",
       "      <td id=\"T_e21f7_row25_col2\" class=\"data row25 col2\" >0.000406</td>\n",
       "    </tr>\n",
       "    <tr>\n",
       "      <th id=\"T_e21f7_level0_row26\" class=\"row_heading level0 row26\" >Scala</th>\n",
       "      <td id=\"T_e21f7_row26_col0\" class=\"data row26 col0\" >0.005562</td>\n",
       "      <td id=\"T_e21f7_row26_col1\" class=\"data row26 col1\" >0.005794</td>\n",
       "      <td id=\"T_e21f7_row26_col2\" class=\"data row26 col2\" >-0.000232</td>\n",
       "    </tr>\n",
       "    <tr>\n",
       "      <th id=\"T_e21f7_level0_row27\" class=\"row_heading level0 row27\" >Elixir</th>\n",
       "      <td id=\"T_e21f7_row27_col0\" class=\"data row27 col0\" >0.005327</td>\n",
       "      <td id=\"T_e21f7_row27_col1\" class=\"data row27 col1\" >0.004806</td>\n",
       "      <td id=\"T_e21f7_row27_col2\" class=\"data row27 col2\" >0.000521</td>\n",
       "    </tr>\n",
       "    <tr>\n",
       "      <th id=\"T_e21f7_level0_row28\" class=\"row_heading level0 row28\" >Clojure</th>\n",
       "      <td id=\"T_e21f7_row28_col0\" class=\"data row28 col0\" >0.004641</td>\n",
       "      <td id=\"T_e21f7_row28_col1\" class=\"data row28 col1\" >0.003053</td>\n",
       "      <td id=\"T_e21f7_row28_col2\" class=\"data row28 col2\" >0.001588</td>\n",
       "    </tr>\n",
       "    <tr>\n",
       "      <th id=\"T_e21f7_level0_row29\" class=\"row_heading level0 row29\" >MATLAB</th>\n",
       "      <td id=\"T_e21f7_row29_col0\" class=\"data row29 col0\" >0.003973</td>\n",
       "      <td id=\"T_e21f7_row29_col1\" class=\"data row29 col1\" >0.006327</td>\n",
       "      <td id=\"T_e21f7_row29_col2\" class=\"data row29 col2\" >-0.002355</td>\n",
       "    </tr>\n",
       "    <tr>\n",
       "      <th id=\"T_e21f7_level0_row30\" class=\"row_heading level0 row30\" >LISP</th>\n",
       "      <td id=\"T_e21f7_row30_col0\" class=\"data row30 col0\" >0.003846</td>\n",
       "      <td id=\"T_e21f7_row30_col1\" class=\"data row30 col1\" >0.001665</td>\n",
       "      <td id=\"T_e21f7_row30_col2\" class=\"data row30 col2\" >0.002182</td>\n",
       "    </tr>\n",
       "    <tr>\n",
       "      <th id=\"T_e21f7_level0_row31\" class=\"row_heading level0 row31\" >Fortran</th>\n",
       "      <td id=\"T_e21f7_row31_col0\" class=\"data row31 col0\" >0.003648</td>\n",
       "      <td id=\"T_e21f7_row31_col1\" class=\"data row31 col1\" >0.001151</td>\n",
       "      <td id=\"T_e21f7_row31_col2\" class=\"data row31 col2\" >0.002497</td>\n",
       "    </tr>\n",
       "    <tr>\n",
       "      <th id=\"T_e21f7_level0_row32\" class=\"row_heading level0 row32\" >F#</th>\n",
       "      <td id=\"T_e21f7_row32_col0\" class=\"data row32 col0\" >0.003106</td>\n",
       "      <td id=\"T_e21f7_row32_col1\" class=\"data row32 col1\" >0.001793</td>\n",
       "      <td id=\"T_e21f7_row32_col2\" class=\"data row32 col2\" >0.001313</td>\n",
       "    </tr>\n",
       "    <tr>\n",
       "      <th id=\"T_e21f7_level0_row33\" class=\"row_heading level0 row33\" >COBOL</th>\n",
       "      <td id=\"T_e21f7_row33_col0\" class=\"data row33 col0\" >0.003070</td>\n",
       "      <td id=\"T_e21f7_row33_col1\" class=\"data row33 col1\" >0.000859</td>\n",
       "      <td id=\"T_e21f7_row33_col2\" class=\"data row33 col2\" >0.002210</td>\n",
       "    </tr>\n",
       "    <tr>\n",
       "      <th id=\"T_e21f7_level0_row34\" class=\"row_heading level0 row34\" >Haskell</th>\n",
       "      <td id=\"T_e21f7_row34_col0\" class=\"data row34 col0\" >0.002745</td>\n",
       "      <td id=\"T_e21f7_row34_col1\" class=\"data row34 col1\" >0.002820</td>\n",
       "      <td id=\"T_e21f7_row34_col2\" class=\"data row34 col2\" >-0.000076</td>\n",
       "    </tr>\n",
       "    <tr>\n",
       "      <th id=\"T_e21f7_level0_row35\" class=\"row_heading level0 row35\" >Julia</th>\n",
       "      <td id=\"T_e21f7_row35_col0\" class=\"data row35 col0\" >0.002709</td>\n",
       "      <td id=\"T_e21f7_row35_col1\" class=\"data row35 col1\" >0.002425</td>\n",
       "      <td id=\"T_e21f7_row35_col2\" class=\"data row35 col2\" >0.000283</td>\n",
       "    </tr>\n",
       "    <tr>\n",
       "      <th id=\"T_e21f7_level0_row36\" class=\"row_heading level0 row36\" >Erlang</th>\n",
       "      <td id=\"T_e21f7_row36_col0\" class=\"data row36 col0\" >0.002637</td>\n",
       "      <td id=\"T_e21f7_row36_col1\" class=\"data row36 col1\" >0.001813</td>\n",
       "      <td id=\"T_e21f7_row36_col2\" class=\"data row36 col2\" >0.000824</td>\n",
       "    </tr>\n",
       "    <tr>\n",
       "      <th id=\"T_e21f7_level0_row37\" class=\"row_heading level0 row37\" >Solidity</th>\n",
       "      <td id=\"T_e21f7_row37_col0\" class=\"data row37 col0\" >0.001697</td>\n",
       "      <td id=\"T_e21f7_row37_col1\" class=\"data row37 col1\" >0.002776</td>\n",
       "      <td id=\"T_e21f7_row37_col2\" class=\"data row37 col2\" >-0.001078</td>\n",
       "    </tr>\n",
       "    <tr>\n",
       "      <th id=\"T_e21f7_level0_row38\" class=\"row_heading level0 row38\" >Crystal</th>\n",
       "      <td id=\"T_e21f7_row38_col0\" class=\"data row38 col0\" >0.001679</td>\n",
       "      <td id=\"T_e21f7_row38_col1\" class=\"data row38 col1\" >0.000721</td>\n",
       "      <td id=\"T_e21f7_row38_col2\" class=\"data row38 col2\" >0.000958</td>\n",
       "    </tr>\n",
       "    <tr>\n",
       "      <th id=\"T_e21f7_level0_row39\" class=\"row_heading level0 row39\" >APL</th>\n",
       "      <td id=\"T_e21f7_row39_col0\" class=\"data row39 col0\" >0.001445</td>\n",
       "      <td id=\"T_e21f7_row39_col1\" class=\"data row39 col1\" >0.000825</td>\n",
       "      <td id=\"T_e21f7_row39_col2\" class=\"data row39 col2\" >0.000620</td>\n",
       "    </tr>\n",
       "    <tr>\n",
       "      <th id=\"T_e21f7_level0_row40\" class=\"row_heading level0 row40\" >SAS</th>\n",
       "      <td id=\"T_e21f7_row40_col0\" class=\"data row40 col0\" >0.000903</td>\n",
       "      <td id=\"T_e21f7_row40_col1\" class=\"data row40 col1\" >0.001151</td>\n",
       "      <td id=\"T_e21f7_row40_col2\" class=\"data row40 col2\" >-0.000248</td>\n",
       "    </tr>\n",
       "    <tr>\n",
       "      <th id=\"T_e21f7_level0_row41\" class=\"row_heading level0 row41\" >OCaml</th>\n",
       "      <td id=\"T_e21f7_row41_col0\" class=\"data row41 col0\" >0.000722</td>\n",
       "      <td id=\"T_e21f7_row41_col1\" class=\"data row41 col1\" >0.000785</td>\n",
       "      <td id=\"T_e21f7_row41_col2\" class=\"data row41 col2\" >-0.000063</td>\n",
       "    </tr>\n",
       "  </tbody>\n",
       "</table>\n"
      ],
      "text/plain": [
       "<pandas.io.formats.style.Styler at 0x287d63760>"
      ]
     },
     "execution_count": 29,
     "metadata": {},
     "output_type": "execute_result"
    }
   ],
   "source": [
    "yrs_15_and_over = clean_and_plot(yrs_1, 'LanguageHaveWorkedWith', 'Which language(s) have you worked with?', False)\n",
    "yrs_less_than_15 = clean_and_plot(yrs_0, 'LanguageHaveWorkedWith', 'Which language(s) have you worked with?', False)\n",
    "\n",
    "comp_df = pd.merge(yrs_15_and_over, yrs_less_than_15, left_index=True, right_index=True)\n",
    "comp_df.columns = ['yrs_15_and_over', 'yrs_less_than_15']\n",
    "comp_df['Diff_YearsCode_Vals'] = comp_df['yrs_15_and_over'] - comp_df['yrs_less_than_15']\n",
    "comp_df.style.bar(subset=['Diff_YearsCode_Vals'], align='mid', color=['#89CFF0', '#FFA500'])"
   ]
  },
  {
   "cell_type": "markdown",
   "id": "0ae55169-d4c9-4364-8fae-84071af1a98c",
   "metadata": {},
   "source": [
    "#### Q2 - How does the country of residence relates to salary and years of experience?"
   ]
  },
  {
   "cell_type": "markdown",
   "id": "bdf137af-248e-46af-afad-2ff4a2d2deab",
   "metadata": {},
   "source": [
    "#### Data Understanding\n",
    "* Access and Explore  \n",
    "Here I look into the questions that are related with programming languages used, yearly salary and years of experience. I have a quick look at stats that I can get using pandas."
   ]
  },
  {
   "cell_type": "code",
   "execution_count": 30,
   "id": "eb0efcc0-9ff1-4a94-820d-529bcdbf89c4",
   "metadata": {},
   "outputs": [
    {
     "data": {
      "text/html": [
       "<div>\n",
       "<style scoped>\n",
       "    .dataframe tbody tr th:only-of-type {\n",
       "        vertical-align: middle;\n",
       "    }\n",
       "\n",
       "    .dataframe tbody tr th {\n",
       "        vertical-align: top;\n",
       "    }\n",
       "\n",
       "    .dataframe thead th {\n",
       "        text-align: right;\n",
       "    }\n",
       "</style>\n",
       "<table border=\"1\" class=\"dataframe\">\n",
       "  <thead>\n",
       "    <tr style=\"text-align: right;\">\n",
       "      <th></th>\n",
       "      <th>qid</th>\n",
       "      <th>qname</th>\n",
       "      <th>question</th>\n",
       "      <th>force_resp</th>\n",
       "      <th>type</th>\n",
       "      <th>selector</th>\n",
       "    </tr>\n",
       "  </thead>\n",
       "  <tbody>\n",
       "    <tr>\n",
       "      <th>20</th>\n",
       "      <td>QID51</td>\n",
       "      <td>CompTotal</td>\n",
       "      <td>What is your current total compensation (salar...</td>\n",
       "      <td>False</td>\n",
       "      <td>TE</td>\n",
       "      <td>SL</td>\n",
       "    </tr>\n",
       "    <tr>\n",
       "      <th>21</th>\n",
       "      <td>QID52</td>\n",
       "      <td>CompFreq</td>\n",
       "      <td>Is that compensation weekly, monthly, or yearly?</td>\n",
       "      <td>False</td>\n",
       "      <td>MC</td>\n",
       "      <td>MAVR</td>\n",
       "    </tr>\n",
       "  </tbody>\n",
       "</table>\n",
       "</div>"
      ],
      "text/plain": [
       "      qid      qname                                           question  \\\n",
       "20  QID51  CompTotal  What is your current total compensation (salar...   \n",
       "21  QID52   CompFreq   Is that compensation weekly, monthly, or yearly?   \n",
       "\n",
       "   force_resp type selector  \n",
       "20      False   TE       SL  \n",
       "21      False   MC     MAVR  "
      ]
     },
     "execution_count": 30,
     "metadata": {},
     "output_type": "execute_result"
    }
   ],
   "source": [
    "# Check the survey questions that are related to 'total compensation'\n",
    "schema_2022[schema_2022['qname'].str.contains('Comp',regex=False)]"
   ]
  },
  {
   "cell_type": "code",
   "execution_count": 31,
   "id": "4dfe8f76-c237-4c20-b7d5-e1bb8bbe3a43",
   "metadata": {},
   "outputs": [
    {
     "data": {
      "text/plain": [
       "['What is your current total compensation (salary, bonuses, and perks, before taxes and deductions)? Please enter a whole number in the box below, without any punctuation.  If you are paid hourly, please estimate an equivalent weekly, monthly, or yearly salary. If you prefer not to answer, please leave the box empty.']"
      ]
     },
     "execution_count": 31,
     "metadata": {},
     "output_type": "execute_result"
    }
   ],
   "source": [
    "get_description('CompTotal', schema_2022)"
   ]
  },
  {
   "cell_type": "code",
   "execution_count": 32,
   "id": "0b824322-a922-489a-912a-c8ecb0a42623",
   "metadata": {},
   "outputs": [
    {
     "data": {
      "text/plain": [
       "['Is that compensation weekly, monthly, or yearly?']"
      ]
     },
     "execution_count": 32,
     "metadata": {},
     "output_type": "execute_result"
    }
   ],
   "source": [
    "get_description('CompFreq', schema_2022)"
   ]
  },
  {
   "cell_type": "code",
   "execution_count": 33,
   "id": "5ec3ec24-1635-4d45-9c64-29bec1c63de1",
   "metadata": {},
   "outputs": [
    {
     "data": {
      "text/plain": [
       "[]"
      ]
     },
     "execution_count": 33,
     "metadata": {},
     "output_type": "execute_result"
    }
   ],
   "source": [
    "get_description('ConvertedCompYearly', schema_2022)"
   ]
  },
  {
   "cell_type": "code",
   "execution_count": 34,
   "id": "0f853346-f2e4-4087-a749-9936a3dba90c",
   "metadata": {},
   "outputs": [
    {
     "data": {
      "text/plain": [
       "150000.0    393\n",
       "200000.0    362\n",
       "120000.0    341\n",
       "63986.0     304\n",
       "100000.0    279\n",
       "           ... \n",
       "76472.0       1\n",
       "1368.0        1\n",
       "104952.0      1\n",
       "3648.0        1\n",
       "110245.0      1\n",
       "Name: ConvertedCompYearly, Length: 7909, dtype: int64"
      ]
     },
     "execution_count": 34,
     "metadata": {},
     "output_type": "execute_result"
    }
   ],
   "source": [
    "# Check the values of ConvertedCompYearly\n",
    "df_2022['ConvertedCompYearly'].value_counts()"
   ]
  },
  {
   "cell_type": "code",
   "execution_count": 35,
   "id": "f445756d-3c79-48de-85e1-40c9c13fe7c0",
   "metadata": {},
   "outputs": [
    {
     "data": {
      "text/html": [
       "<div>\n",
       "<style scoped>\n",
       "    .dataframe tbody tr th:only-of-type {\n",
       "        vertical-align: middle;\n",
       "    }\n",
       "\n",
       "    .dataframe tbody tr th {\n",
       "        vertical-align: top;\n",
       "    }\n",
       "\n",
       "    .dataframe thead th {\n",
       "        text-align: right;\n",
       "    }\n",
       "</style>\n",
       "<table border=\"1\" class=\"dataframe\">\n",
       "  <thead>\n",
       "    <tr style=\"text-align: right;\">\n",
       "      <th></th>\n",
       "      <th>ResponseId</th>\n",
       "      <th>CompTotal</th>\n",
       "      <th>VCHostingPersonal use</th>\n",
       "      <th>VCHostingProfessional use</th>\n",
       "      <th>WorkExp</th>\n",
       "      <th>ConvertedCompYearly</th>\n",
       "    </tr>\n",
       "  </thead>\n",
       "  <tbody>\n",
       "    <tr>\n",
       "      <th>count</th>\n",
       "      <td>73268.000000</td>\n",
       "      <td>3.842200e+04</td>\n",
       "      <td>0.0</td>\n",
       "      <td>0.0</td>\n",
       "      <td>36769.000000</td>\n",
       "      <td>3.807100e+04</td>\n",
       "    </tr>\n",
       "    <tr>\n",
       "      <th>mean</th>\n",
       "      <td>36634.500000</td>\n",
       "      <td>2.342434e+52</td>\n",
       "      <td>NaN</td>\n",
       "      <td>NaN</td>\n",
       "      <td>10.242378</td>\n",
       "      <td>1.707613e+05</td>\n",
       "    </tr>\n",
       "    <tr>\n",
       "      <th>std</th>\n",
       "      <td>21150.794099</td>\n",
       "      <td>4.591478e+54</td>\n",
       "      <td>NaN</td>\n",
       "      <td>NaN</td>\n",
       "      <td>8.706850</td>\n",
       "      <td>7.814132e+05</td>\n",
       "    </tr>\n",
       "    <tr>\n",
       "      <th>min</th>\n",
       "      <td>1.000000</td>\n",
       "      <td>0.000000e+00</td>\n",
       "      <td>NaN</td>\n",
       "      <td>NaN</td>\n",
       "      <td>0.000000</td>\n",
       "      <td>1.000000e+00</td>\n",
       "    </tr>\n",
       "    <tr>\n",
       "      <th>25%</th>\n",
       "      <td>18317.750000</td>\n",
       "      <td>3.000000e+04</td>\n",
       "      <td>NaN</td>\n",
       "      <td>NaN</td>\n",
       "      <td>4.000000</td>\n",
       "      <td>3.583200e+04</td>\n",
       "    </tr>\n",
       "    <tr>\n",
       "      <th>50%</th>\n",
       "      <td>36634.500000</td>\n",
       "      <td>7.750000e+04</td>\n",
       "      <td>NaN</td>\n",
       "      <td>NaN</td>\n",
       "      <td>8.000000</td>\n",
       "      <td>6.784500e+04</td>\n",
       "    </tr>\n",
       "    <tr>\n",
       "      <th>75%</th>\n",
       "      <td>54951.250000</td>\n",
       "      <td>1.540000e+05</td>\n",
       "      <td>NaN</td>\n",
       "      <td>NaN</td>\n",
       "      <td>15.000000</td>\n",
       "      <td>1.200000e+05</td>\n",
       "    </tr>\n",
       "    <tr>\n",
       "      <th>max</th>\n",
       "      <td>73268.000000</td>\n",
       "      <td>9.000000e+56</td>\n",
       "      <td>NaN</td>\n",
       "      <td>NaN</td>\n",
       "      <td>50.000000</td>\n",
       "      <td>5.000000e+07</td>\n",
       "    </tr>\n",
       "  </tbody>\n",
       "</table>\n",
       "</div>"
      ],
      "text/plain": [
       "         ResponseId     CompTotal  VCHostingPersonal use  \\\n",
       "count  73268.000000  3.842200e+04                    0.0   \n",
       "mean   36634.500000  2.342434e+52                    NaN   \n",
       "std    21150.794099  4.591478e+54                    NaN   \n",
       "min        1.000000  0.000000e+00                    NaN   \n",
       "25%    18317.750000  3.000000e+04                    NaN   \n",
       "50%    36634.500000  7.750000e+04                    NaN   \n",
       "75%    54951.250000  1.540000e+05                    NaN   \n",
       "max    73268.000000  9.000000e+56                    NaN   \n",
       "\n",
       "       VCHostingProfessional use       WorkExp  ConvertedCompYearly  \n",
       "count                        0.0  36769.000000         3.807100e+04  \n",
       "mean                         NaN     10.242378         1.707613e+05  \n",
       "std                          NaN      8.706850         7.814132e+05  \n",
       "min                          NaN      0.000000         1.000000e+00  \n",
       "25%                          NaN      4.000000         3.583200e+04  \n",
       "50%                          NaN      8.000000         6.784500e+04  \n",
       "75%                          NaN     15.000000         1.200000e+05  \n",
       "max                          NaN     50.000000         5.000000e+07  "
      ]
     },
     "execution_count": 35,
     "metadata": {},
     "output_type": "execute_result"
    }
   ],
   "source": [
    "# Check stats for ConvertedCompYearly\n",
    "df_2022.describe()"
   ]
  },
  {
   "cell_type": "code",
   "execution_count": 36,
   "id": "d6fbd247-709a-4748-a8c7-29f0ed4b59e7",
   "metadata": {},
   "outputs": [
    {
     "data": {
      "image/png": "[encoded data removed]",
      "text/plain": [
       "<Figure size 432x288 with 2 Axes>"
      ]
     },
     "metadata": {
      "needs_background": "light"
     },
     "output_type": "display_data"
    }
   ],
   "source": [
    "# We don't get much from this heatmap\n",
    "sns.heatmap(df_2022.corr(), annot=True, fmt=\".2f\");"
   ]
  },
  {
   "cell_type": "markdown",
   "id": "bb7aca65-ff79-4a1e-8ffe-cd8da9e10458",
   "metadata": {},
   "source": [
    "#### Prepare Data\n",
    "* Wrangle and Clean  \n",
    "Here I remove null/NaN values and I ensure the years of experience column has a suitable datatype by replacing string values and casting. I then look at the countries that have the highest sum of salary and the countries that have the most responses and I decide I am going to work with the latter because the list is more diverse."
   ]
  },
  {
   "cell_type": "code",
   "execution_count": 37,
   "id": "60305c66-eecc-4660-b574-7f5d6d87cde0",
   "metadata": {},
   "outputs": [
    {
     "data": {
      "text/plain": [
       "37935"
      ]
     },
     "execution_count": 37,
     "metadata": {},
     "output_type": "execute_result"
    }
   ],
   "source": [
    "# Remove any rows with null valuse for ResponseId ConvertedCompYearly, YearsCodePro, Country\n",
    "study_df = df_2022.dropna(subset=['ResponseId', 'ConvertedCompYearly', 'YearsCodePro', 'Country'], axis=0)\n",
    "study_df.shape[0]"
   ]
  },
  {
   "cell_type": "code",
   "execution_count": 38,
   "id": "fd4ccdcb-da27-4bfe-b347-82d19d19b4a6",
   "metadata": {},
   "outputs": [
    {
     "data": {
      "text/plain": [
       "ResponseId               int64\n",
       "MainBranch              object\n",
       "Employment              object\n",
       "RemoteWork              object\n",
       "CodingActivities        object\n",
       "                        ...   \n",
       "TrueFalse_2             object\n",
       "TrueFalse_3             object\n",
       "SurveyLength            object\n",
       "SurveyEase              object\n",
       "ConvertedCompYearly    float64\n",
       "Length: 79, dtype: object"
      ]
     },
     "execution_count": 38,
     "metadata": {},
     "output_type": "execute_result"
    }
   ],
   "source": [
    "study_df.dtypes"
   ]
  },
  {
   "cell_type": "code",
   "execution_count": 39,
   "id": "6f2b819e-367a-48f9-b849-409df9a885f7",
   "metadata": {},
   "outputs": [
    {
     "name": "stderr",
     "output_type": "stream",
     "text": [
      "/var/folders/pz/h6v6tlgx0h55sh0774vn5c4c0000gp/T/ipykernel_19954/4133778293.py:1: SettingWithCopyWarning: \n",
      "A value is trying to be set on a copy of a slice from a DataFrame.\n",
      "Try using .loc[row_indexer,col_indexer] = value instead\n",
      "\n",
      "See the caveats in the documentation: https://pandas.pydata.org/pandas-docs/stable/user_guide/indexing.html#returning-a-view-versus-a-copy\n",
      "  study_df['YearsCodePro'] = study_df['YearsCodePro'].replace('Less than 1 year', 0)\n",
      "/var/folders/pz/h6v6tlgx0h55sh0774vn5c4c0000gp/T/ipykernel_19954/4133778293.py:2: SettingWithCopyWarning: \n",
      "A value is trying to be set on a copy of a slice from a DataFrame.\n",
      "Try using .loc[row_indexer,col_indexer] = value instead\n",
      "\n",
      "See the caveats in the documentation: https://pandas.pydata.org/pandas-docs/stable/user_guide/indexing.html#returning-a-view-versus-a-copy\n",
      "  study_df['YearsCodePro'] = study_df['YearsCodePro'].replace('More than 50 years', 51)\n"
     ]
    }
   ],
   "source": [
    "study_df['YearsCodePro'] = study_df['YearsCodePro'].replace('Less than 1 year', 0)\n",
    "study_df['YearsCodePro'] = study_df['YearsCodePro'].replace('More than 50 years', 51)\n",
    "study_df = study_df.astype({'YearsCodePro':'int'})"
   ]
  },
  {
   "cell_type": "code",
   "execution_count": 40,
   "id": "834c756f-a363-420e-aad6-bdcdd46208f7",
   "metadata": {},
   "outputs": [
    {
     "data": {
      "text/plain": [
       "34502"
      ]
     },
     "execution_count": 40,
     "metadata": {},
     "output_type": "execute_result"
    }
   ],
   "source": [
    "#Remove values for YearsCodePro < 1 and YearsCodePro > 25\n",
    "study_df = study_df[(study_df['YearsCodePro'] >= 1) & (study_df['YearsCodePro'] <= 25)]\n",
    "study_df.shape[0]"
   ]
  },
  {
   "cell_type": "code",
   "execution_count": 41,
   "id": "1a24f154-0f22-4984-871d-7edf840de910",
   "metadata": {},
   "outputs": [
    {
     "data": {
      "text/plain": [
       "(0.975, 3.667]      7817\n",
       "(3.667, 6.333]      8406\n",
       "(6.333, 9.0]        5422\n",
       "(9.0, 11.667]       3527\n",
       "(11.667, 14.333]    2804\n",
       "(14.333, 17.0]      2528\n",
       "(17.0, 19.667]       852\n",
       "(19.667, 22.333]    1920\n",
       "(22.333, 25.0]      1226\n",
       "Name: YearsCodePro, dtype: int64"
      ]
     },
     "execution_count": 41,
     "metadata": {},
     "output_type": "execute_result"
    }
   ],
   "source": [
    "# Quick check of the values of YearCodePro\n",
    "study_df['YearsCodePro'].value_counts(bins = 9, sort = False)"
   ]
  },
  {
   "cell_type": "code",
   "execution_count": 42,
   "id": "692cc539-8e76-4b7b-8a69-72b8e199aeaf",
   "metadata": {},
   "outputs": [],
   "source": [
    "# Shorten label that is too long\n",
    "study_df = study_df.replace('United Kingdom of Great Britain and Northern Ireland','United Kingdom')"
   ]
  },
  {
   "cell_type": "code",
   "execution_count": 43,
   "id": "e095b9dc-3c90-4ce3-8d59-29c214426e83",
   "metadata": {},
   "outputs": [
    {
     "data": {
      "text/plain": [
       "Country\n",
       "United States of America    2.984943e+09\n",
       "United Kingdom              4.612012e+08\n",
       "Canada                      3.134281e+08\n",
       "Germany                     3.131050e+08\n",
       "Australia                   1.691468e+08\n",
       "France                      1.192548e+08\n",
       "Switzerland                 1.107339e+08\n",
       "India                       1.067010e+08\n",
       "Netherlands                 9.461862e+07\n",
       "Spain                       9.456925e+07\n",
       "Name: ConvertedCompYearly, dtype: float64"
      ]
     },
     "execution_count": 43,
     "metadata": {},
     "output_type": "execute_result"
    }
   ],
   "source": [
    "# Get the top 10 countries with the max salary\n",
    "top_10_sum = study_df.groupby('Country')['ConvertedCompYearly'].aggregate('sum')\n",
    "\n",
    "top_10_sum.nlargest(n=10)"
   ]
  },
  {
   "cell_type": "code",
   "execution_count": 44,
   "id": "a7df4ca7-90ec-4200-b36e-47511a413ec0",
   "metadata": {},
   "outputs": [
    {
     "data": {
      "text/plain": [
       "United States of America    7565\n",
       "Germany                     2714\n",
       "United Kingdom              2350\n",
       "India                       2011\n",
       "Canada                      1337\n",
       "France                      1286\n",
       "Brazil                      1184\n",
       "Poland                       919\n",
       "Spain                        916\n",
       "Netherlands                  819\n",
       "Name: Country, dtype: int64"
      ]
     },
     "execution_count": 44,
     "metadata": {},
     "output_type": "execute_result"
    }
   ],
   "source": [
    "# Get the top 10 countries with the most responses --> This list looks more diverse\n",
    "top_10_count = study_df['Country'].value_counts().nlargest(n=10)\n",
    "top_10_count"
   ]
  },
  {
   "cell_type": "code",
   "execution_count": 45,
   "id": "8958cf05-daee-445c-acfe-e6f58adbc018",
   "metadata": {},
   "outputs": [],
   "source": [
    "# Converto the top 10 countries with the most responses to a list \n",
    "top10_l = list(top_10_count.index)"
   ]
  },
  {
   "cell_type": "code",
   "execution_count": 46,
   "id": "4708a9e3-06e7-40c8-a823-21ede5108b2c",
   "metadata": {},
   "outputs": [
    {
     "data": {
      "text/plain": [
       "21101"
      ]
     },
     "execution_count": 46,
     "metadata": {},
     "output_type": "execute_result"
    }
   ],
   "source": [
    "# Keep only the data for the top 10 countries\n",
    "study_df_top10 = study_df[study_df['Country'].isin(top10_l)]\n",
    "study_df_top10.shape[0]"
   ]
  },
  {
   "cell_type": "markdown",
   "id": "7f543875-f97f-4c50-b492-530967312b41",
   "metadata": {},
   "source": [
    "#### Q2 - How does the country of residence relates to salary and years of experience?\n",
    "\n",
    "* Analyse  \n",
    "Here I take the data from the top 10 countries with the most responses and I calculate the median yearly salary (USD) grouped by country and by years of experience. I create another column that has the results for every response and I add it to the dataset I am working one.\n",
    "* Visualise\n",
    "I use a lineplot to plot the values of median yearly salary (USD), years of experience (between 1 and 25 years) by country. Then I use a scatterplot to add another dimension which is the count of responses for each year of experience. This is just to show that some countries (e.g. the USA) have much more responses than others (e.g. Neatherlands)\n",
    "* Explain the visualisation  \n",
    "In both graphs the countries that come on top of the graph show have the greatest median salary and the countries that are towards the bottom of the chart have the least. For example, higer payscales are recorded for the USA, Canada, and the UK compared to Brazil, India, Poland and Spain."
   ]
  },
  {
   "cell_type": "code",
   "execution_count": 47,
   "id": "2d89a340-0a6f-4c0f-988b-bfb4a46e071d",
   "metadata": {},
   "outputs": [
    {
     "data": {
      "text/html": [
       "<div>\n",
       "<style scoped>\n",
       "    .dataframe tbody tr th:only-of-type {\n",
       "        vertical-align: middle;\n",
       "    }\n",
       "\n",
       "    .dataframe tbody tr th {\n",
       "        vertical-align: top;\n",
       "    }\n",
       "\n",
       "    .dataframe thead th {\n",
       "        text-align: right;\n",
       "    }\n",
       "</style>\n",
       "<table border=\"1\" class=\"dataframe\">\n",
       "  <thead>\n",
       "    <tr style=\"text-align: right;\">\n",
       "      <th></th>\n",
       "      <th>ResponseId</th>\n",
       "      <th>Country</th>\n",
       "      <th>YearsCodePro</th>\n",
       "      <th>RemoteWork</th>\n",
       "      <th>ConvertedCompYearly</th>\n",
       "    </tr>\n",
       "  </thead>\n",
       "  <tbody>\n",
       "    <tr>\n",
       "      <th>2</th>\n",
       "      <td>3</td>\n",
       "      <td>United Kingdom</td>\n",
       "      <td>5</td>\n",
       "      <td>Hybrid (some remote, some in-person)</td>\n",
       "      <td>40205.0</td>\n",
       "    </tr>\n",
       "    <tr>\n",
       "      <th>8</th>\n",
       "      <td>9</td>\n",
       "      <td>Netherlands</td>\n",
       "      <td>6</td>\n",
       "      <td>Hybrid (some remote, some in-person)</td>\n",
       "      <td>49056.0</td>\n",
       "    </tr>\n",
       "    <tr>\n",
       "      <th>10</th>\n",
       "      <td>11</td>\n",
       "      <td>United Kingdom</td>\n",
       "      <td>2</td>\n",
       "      <td>Hybrid (some remote, some in-person)</td>\n",
       "      <td>60307.0</td>\n",
       "    </tr>\n",
       "    <tr>\n",
       "      <th>11</th>\n",
       "      <td>12</td>\n",
       "      <td>United States of America</td>\n",
       "      <td>10</td>\n",
       "      <td>Fully remote</td>\n",
       "      <td>194400.0</td>\n",
       "    </tr>\n",
       "    <tr>\n",
       "      <th>12</th>\n",
       "      <td>13</td>\n",
       "      <td>United States of America</td>\n",
       "      <td>5</td>\n",
       "      <td>Hybrid (some remote, some in-person)</td>\n",
       "      <td>65000.0</td>\n",
       "    </tr>\n",
       "  </tbody>\n",
       "</table>\n",
       "</div>"
      ],
      "text/plain": [
       "    ResponseId                   Country  YearsCodePro  \\\n",
       "2            3            United Kingdom             5   \n",
       "8            9               Netherlands             6   \n",
       "10          11            United Kingdom             2   \n",
       "11          12  United States of America            10   \n",
       "12          13  United States of America             5   \n",
       "\n",
       "                              RemoteWork  ConvertedCompYearly  \n",
       "2   Hybrid (some remote, some in-person)              40205.0  \n",
       "8   Hybrid (some remote, some in-person)              49056.0  \n",
       "10  Hybrid (some remote, some in-person)              60307.0  \n",
       "11                          Fully remote             194400.0  \n",
       "12  Hybrid (some remote, some in-person)              65000.0  "
      ]
     },
     "execution_count": 47,
     "metadata": {},
     "output_type": "execute_result"
    }
   ],
   "source": [
    "# Keep only the columns that we are interested in\n",
    "study_df_top10 = study_df_top10[['ResponseId', 'Country', 'YearsCodePro', 'RemoteWork', 'ConvertedCompYearly']]\n",
    "study_df_top10.head()"
   ]
  },
  {
   "cell_type": "code",
   "execution_count": 48,
   "id": "69a914aa-0233-430c-a36c-647b221931fc",
   "metadata": {},
   "outputs": [
    {
     "data": {
      "text/plain": [
       "YearsCodePro  Country                 \n",
       "1             Brazil                       12468.0\n",
       "              Canada                       54659.0\n",
       "              France                       35192.0\n",
       "              Germany                      49056.0\n",
       "              India                         7740.0\n",
       "                                            ...   \n",
       "25            Netherlands                  74651.0\n",
       "              Poland                       69372.0\n",
       "              Spain                        53322.0\n",
       "              United Kingdom               90460.0\n",
       "              United States of America    168000.0\n",
       "Name: MEDIAN_ConvertedCompYearly, Length: 250, dtype: float64"
      ]
     },
     "execution_count": 48,
     "metadata": {},
     "output_type": "execute_result"
    }
   ],
   "source": [
    "# Find the median yearly salary (USD)\n",
    "med = study_df_top10.groupby(['YearsCodePro','Country'])[['ConvertedCompYearly']].apply(np.median)\n",
    "med.name = 'MEDIAN_ConvertedCompYearly'\n",
    "med"
   ]
  },
  {
   "cell_type": "code",
   "execution_count": 49,
   "id": "8ec009f9-74b0-4aa4-b9cb-114ba58d1fb5",
   "metadata": {},
   "outputs": [
    {
     "data": {
      "text/html": [
       "<div>\n",
       "<style scoped>\n",
       "    .dataframe tbody tr th:only-of-type {\n",
       "        vertical-align: middle;\n",
       "    }\n",
       "\n",
       "    .dataframe tbody tr th {\n",
       "        vertical-align: top;\n",
       "    }\n",
       "\n",
       "    .dataframe thead th {\n",
       "        text-align: right;\n",
       "    }\n",
       "</style>\n",
       "<table border=\"1\" class=\"dataframe\">\n",
       "  <thead>\n",
       "    <tr style=\"text-align: right;\">\n",
       "      <th></th>\n",
       "      <th>ResponseId</th>\n",
       "      <th>Country</th>\n",
       "      <th>YearsCodePro</th>\n",
       "      <th>RemoteWork</th>\n",
       "      <th>ConvertedCompYearly</th>\n",
       "      <th>MEDIAN_ConvertedCompYearly</th>\n",
       "    </tr>\n",
       "  </thead>\n",
       "  <tbody>\n",
       "    <tr>\n",
       "      <th>2</th>\n",
       "      <td>3</td>\n",
       "      <td>United Kingdom</td>\n",
       "      <td>5</td>\n",
       "      <td>Hybrid (some remote, some in-person)</td>\n",
       "      <td>40205.0</td>\n",
       "      <td>72556.5</td>\n",
       "    </tr>\n",
       "    <tr>\n",
       "      <th>8</th>\n",
       "      <td>9</td>\n",
       "      <td>Netherlands</td>\n",
       "      <td>6</td>\n",
       "      <td>Hybrid (some remote, some in-person)</td>\n",
       "      <td>49056.0</td>\n",
       "      <td>63360.0</td>\n",
       "    </tr>\n",
       "    <tr>\n",
       "      <th>10</th>\n",
       "      <td>11</td>\n",
       "      <td>United Kingdom</td>\n",
       "      <td>2</td>\n",
       "      <td>Hybrid (some remote, some in-person)</td>\n",
       "      <td>60307.0</td>\n",
       "      <td>50256.0</td>\n",
       "    </tr>\n",
       "    <tr>\n",
       "      <th>11</th>\n",
       "      <td>12</td>\n",
       "      <td>United States of America</td>\n",
       "      <td>10</td>\n",
       "      <td>Fully remote</td>\n",
       "      <td>194400.0</td>\n",
       "      <td>155000.0</td>\n",
       "    </tr>\n",
       "    <tr>\n",
       "      <th>12</th>\n",
       "      <td>13</td>\n",
       "      <td>United States of America</td>\n",
       "      <td>5</td>\n",
       "      <td>Hybrid (some remote, some in-person)</td>\n",
       "      <td>65000.0</td>\n",
       "      <td>129250.0</td>\n",
       "    </tr>\n",
       "  </tbody>\n",
       "</table>\n",
       "</div>"
      ],
      "text/plain": [
       "    ResponseId                   Country  YearsCodePro  \\\n",
       "2            3            United Kingdom             5   \n",
       "8            9               Netherlands             6   \n",
       "10          11            United Kingdom             2   \n",
       "11          12  United States of America            10   \n",
       "12          13  United States of America             5   \n",
       "\n",
       "                              RemoteWork  ConvertedCompYearly  \\\n",
       "2   Hybrid (some remote, some in-person)              40205.0   \n",
       "8   Hybrid (some remote, some in-person)              49056.0   \n",
       "10  Hybrid (some remote, some in-person)              60307.0   \n",
       "11                          Fully remote             194400.0   \n",
       "12  Hybrid (some remote, some in-person)              65000.0   \n",
       "\n",
       "    MEDIAN_ConvertedCompYearly  \n",
       "2                      72556.5  \n",
       "8                      63360.0  \n",
       "10                     50256.0  \n",
       "11                    155000.0  \n",
       "12                    129250.0  "
      ]
     },
     "execution_count": 49,
     "metadata": {},
     "output_type": "execute_result"
    }
   ],
   "source": [
    "# Add the median yearly salary (USD) as a column in the dataset\n",
    "study_df_top10 = study_df_top10.join(med, on=['YearsCodePro', 'Country'])\n",
    "study_df_top10.head()"
   ]
  },
  {
   "cell_type": "code",
   "execution_count": 50,
   "id": "117ac20b-7c66-486d-abad-08eca43ade42",
   "metadata": {},
   "outputs": [
    {
     "data": {
      "image/png": "[encoded data removed]",
      "text/plain": [
       "<Figure size 792x576 with 1 Axes>"
      ]
     },
     "metadata": {},
     "output_type": "display_data"
    }
   ],
   "source": [
    "# Plot the results in a lineplot\n",
    "sns.set(rc={'figure.figsize':(11, 8)})\n",
    "ax = sns.lineplot(data = study_df_top10, x = study_df_top10['YearsCodePro'], y = study_df_top10['MEDIAN_ConvertedCompYearly'], hue = \"Country\")\n",
    "sns.move_legend(ax, \"upper left\", bbox_to_anchor=(1, 1))\n",
    "plt.xlabel(\"Years of professional experience\")\n",
    "plt.ylabel(\"Median yearly salary (USD)\")\n",
    "plt.show()\n",
    "figure = ax.get_figure()\n",
    "figure.savefig(\"country_salary_line.png\") "
   ]
  },
  {
   "cell_type": "code",
   "execution_count": 51,
   "id": "567dede3-3bc3-4397-9685-a6d7ea1e34c2",
   "metadata": {},
   "outputs": [
    {
     "data": {
      "text/plain": [
       "Country                   YearsCodePro\n",
       "Brazil                    1                65\n",
       "                          2                94\n",
       "                          3               112\n",
       "                          4               113\n",
       "                          5               106\n",
       "                                         ... \n",
       "United States of America  21               82\n",
       "                          22              207\n",
       "                          23              115\n",
       "                          24              106\n",
       "                          25              175\n",
       "Name: YearsCodePro, Length: 250, dtype: int64"
      ]
     },
     "execution_count": 51,
     "metadata": {},
     "output_type": "execute_result"
    }
   ],
   "source": [
    "# check how many rows are there for each YearsCodePro per Country\n",
    "study_df_top10.groupby([\"Country\", \"YearsCodePro\"])[\"YearsCodePro\"].count()"
   ]
  },
  {
   "cell_type": "code",
   "execution_count": 52,
   "id": "aa3962d8-21c9-4f31-85be-887626f66b17",
   "metadata": {},
   "outputs": [
    {
     "data": {
      "text/html": [
       "<div>\n",
       "<style scoped>\n",
       "    .dataframe tbody tr th:only-of-type {\n",
       "        vertical-align: middle;\n",
       "    }\n",
       "\n",
       "    .dataframe tbody tr th {\n",
       "        vertical-align: top;\n",
       "    }\n",
       "\n",
       "    .dataframe thead th {\n",
       "        text-align: right;\n",
       "    }\n",
       "</style>\n",
       "<table border=\"1\" class=\"dataframe\">\n",
       "  <thead>\n",
       "    <tr style=\"text-align: right;\">\n",
       "      <th></th>\n",
       "      <th>ResponseId</th>\n",
       "      <th>Country</th>\n",
       "      <th>YearsCodePro</th>\n",
       "      <th>RemoteWork</th>\n",
       "      <th>ConvertedCompYearly</th>\n",
       "      <th>MEDIAN_ConvertedCompYearly</th>\n",
       "      <th>count</th>\n",
       "    </tr>\n",
       "  </thead>\n",
       "  <tbody>\n",
       "    <tr>\n",
       "      <th>2</th>\n",
       "      <td>3</td>\n",
       "      <td>United Kingdom</td>\n",
       "      <td>5</td>\n",
       "      <td>Hybrid (some remote, some in-person)</td>\n",
       "      <td>40205.0</td>\n",
       "      <td>72556.5</td>\n",
       "      <td>178</td>\n",
       "    </tr>\n",
       "    <tr>\n",
       "      <th>8</th>\n",
       "      <td>9</td>\n",
       "      <td>Netherlands</td>\n",
       "      <td>6</td>\n",
       "      <td>Hybrid (some remote, some in-person)</td>\n",
       "      <td>49056.0</td>\n",
       "      <td>63360.0</td>\n",
       "      <td>57</td>\n",
       "    </tr>\n",
       "    <tr>\n",
       "      <th>10</th>\n",
       "      <td>11</td>\n",
       "      <td>United Kingdom</td>\n",
       "      <td>2</td>\n",
       "      <td>Hybrid (some remote, some in-person)</td>\n",
       "      <td>60307.0</td>\n",
       "      <td>50256.0</td>\n",
       "      <td>154</td>\n",
       "    </tr>\n",
       "    <tr>\n",
       "      <th>11</th>\n",
       "      <td>12</td>\n",
       "      <td>United States of America</td>\n",
       "      <td>10</td>\n",
       "      <td>Fully remote</td>\n",
       "      <td>194400.0</td>\n",
       "      <td>155000.0</td>\n",
       "      <td>594</td>\n",
       "    </tr>\n",
       "    <tr>\n",
       "      <th>12</th>\n",
       "      <td>13</td>\n",
       "      <td>United States of America</td>\n",
       "      <td>5</td>\n",
       "      <td>Hybrid (some remote, some in-person)</td>\n",
       "      <td>65000.0</td>\n",
       "      <td>129250.0</td>\n",
       "      <td>594</td>\n",
       "    </tr>\n",
       "    <tr>\n",
       "      <th>14</th>\n",
       "      <td>15</td>\n",
       "      <td>United States of America</td>\n",
       "      <td>5</td>\n",
       "      <td>Fully remote</td>\n",
       "      <td>110000.0</td>\n",
       "      <td>129250.0</td>\n",
       "      <td>594</td>\n",
       "    </tr>\n",
       "    <tr>\n",
       "      <th>22</th>\n",
       "      <td>23</td>\n",
       "      <td>Canada</td>\n",
       "      <td>20</td>\n",
       "      <td>Fully remote</td>\n",
       "      <td>97605.0</td>\n",
       "      <td>98386.0</td>\n",
       "      <td>50</td>\n",
       "    </tr>\n",
       "    <tr>\n",
       "      <th>25</th>\n",
       "      <td>26</td>\n",
       "      <td>Germany</td>\n",
       "      <td>9</td>\n",
       "      <td>Hybrid (some remote, some in-person)</td>\n",
       "      <td>90647.0</td>\n",
       "      <td>74651.0</td>\n",
       "      <td>114</td>\n",
       "    </tr>\n",
       "    <tr>\n",
       "      <th>26</th>\n",
       "      <td>27</td>\n",
       "      <td>United States of America</td>\n",
       "      <td>5</td>\n",
       "      <td>Hybrid (some remote, some in-person)</td>\n",
       "      <td>106960.0</td>\n",
       "      <td>129250.0</td>\n",
       "      <td>594</td>\n",
       "    </tr>\n",
       "    <tr>\n",
       "      <th>28</th>\n",
       "      <td>29</td>\n",
       "      <td>United States of America</td>\n",
       "      <td>14</td>\n",
       "      <td>Hybrid (some remote, some in-person)</td>\n",
       "      <td>130000.0</td>\n",
       "      <td>161000.0</td>\n",
       "      <td>205</td>\n",
       "    </tr>\n",
       "  </tbody>\n",
       "</table>\n",
       "</div>"
      ],
      "text/plain": [
       "    ResponseId                   Country  YearsCodePro  \\\n",
       "2            3            United Kingdom             5   \n",
       "8            9               Netherlands             6   \n",
       "10          11            United Kingdom             2   \n",
       "11          12  United States of America            10   \n",
       "12          13  United States of America             5   \n",
       "14          15  United States of America             5   \n",
       "22          23                    Canada            20   \n",
       "25          26                   Germany             9   \n",
       "26          27  United States of America             5   \n",
       "28          29  United States of America            14   \n",
       "\n",
       "                              RemoteWork  ConvertedCompYearly  \\\n",
       "2   Hybrid (some remote, some in-person)              40205.0   \n",
       "8   Hybrid (some remote, some in-person)              49056.0   \n",
       "10  Hybrid (some remote, some in-person)              60307.0   \n",
       "11                          Fully remote             194400.0   \n",
       "12  Hybrid (some remote, some in-person)              65000.0   \n",
       "14                          Fully remote             110000.0   \n",
       "22                          Fully remote              97605.0   \n",
       "25  Hybrid (some remote, some in-person)              90647.0   \n",
       "26  Hybrid (some remote, some in-person)             106960.0   \n",
       "28  Hybrid (some remote, some in-person)             130000.0   \n",
       "\n",
       "    MEDIAN_ConvertedCompYearly  count  \n",
       "2                      72556.5    178  \n",
       "8                      63360.0     57  \n",
       "10                     50256.0    154  \n",
       "11                    155000.0    594  \n",
       "12                    129250.0    594  \n",
       "14                    129250.0    594  \n",
       "22                     98386.0     50  \n",
       "25                     74651.0    114  \n",
       "26                    129250.0    594  \n",
       "28                    161000.0    205  "
      ]
     },
     "execution_count": 52,
     "metadata": {},
     "output_type": "execute_result"
    }
   ],
   "source": [
    "# Add a count of the 'size' of each calculation re: how many rows are there for each YearsCodePro per Country\n",
    "# I got some help from here: https://stackoverflow.com/questions/29791785/python-pandas-add-a-column-to-my-dataframe-that-counts-a-variable\n",
    "study_df_top10['count'] = study_df_top10.groupby([\"Country\", \"YearsCodePro\"])[\"YearsCodePro\"].transform('count')\n",
    "study_df_top10.head(10)"
   ]
  },
  {
   "cell_type": "code",
   "execution_count": 53,
   "id": "6191c2f4-e71b-4252-82c0-73df23a239e9",
   "metadata": {},
   "outputs": [
    {
     "data": {
      "image/png": "[encoded data removed]",
      "text/plain": [
       "<Figure size 792x576 with 1 Axes>"
      ]
     },
     "metadata": {},
     "output_type": "display_data"
    }
   ],
   "source": [
    "# This scatterplot has a fourth dimension for the size\n",
    "sns.set(rc={'figure.figsize':(11, 8)})\n",
    "ax = sns.scatterplot(data = study_df_top10, x = study_df_top10['YearsCodePro'], y = study_df_top10['MEDIAN_ConvertedCompYearly'], hue = 'Country', size = 'count', sizes=(20, 200))\n",
    "sns.move_legend(ax, \"upper left\", bbox_to_anchor=(1, 1))\n",
    "plt.xlabel(\"Years of professional experience\")\n",
    "plt.ylabel(\"Median yearly salary (USD)\")\n",
    "plt.show()\n",
    "figure = ax.get_figure()\n",
    "figure.savefig(\"country_salary_scatter.png\") "
   ]
  },
  {
   "cell_type": "code",
   "execution_count": 54,
   "id": "6f48a71d-5b1f-4631-84e1-947ff13bda47",
   "metadata": {},
   "outputs": [
    {
     "data": {
      "text/plain": [
       "Country\n",
       "India                       5.758329\n",
       "Poland                      7.833515\n",
       "France                      8.104199\n",
       "Brazil                      8.450169\n",
       "Germany                     8.900516\n",
       "Spain                       9.033843\n",
       "Netherlands                 9.266178\n",
       "Canada                      9.380703\n",
       "United Kingdom              9.537447\n",
       "United States of America    9.717515\n",
       "Name: YearsCodePro, dtype: float64"
      ]
     },
     "execution_count": 54,
     "metadata": {},
     "output_type": "execute_result"
    }
   ],
   "source": [
    "# Comparing avg values\n",
    "study_df_top10.groupby('Country').mean()['YearsCodePro'].sort_values()"
   ]
  },
  {
   "cell_type": "code",
   "execution_count": 55,
   "id": "11551b42-2e74-4cbd-8242-e4d7fdd1856f",
   "metadata": {},
   "outputs": [
    {
     "data": {
      "text/plain": [
       "Country\n",
       "Brazil                       48244.0\n",
       "India                        53059.0\n",
       "Poland                       65822.0\n",
       "France                       92733.0\n",
       "Spain                       103242.0\n",
       "Germany                     115367.0\n",
       "Netherlands                 115529.0\n",
       "United Kingdom              196256.0\n",
       "Canada                      234426.0\n",
       "United States of America    394573.0\n",
       "Name: ConvertedCompYearly, dtype: float64"
      ]
     },
     "execution_count": 55,
     "metadata": {},
     "output_type": "execute_result"
    }
   ],
   "source": [
    "# Comparing avg values\n",
    "study_df_top10.groupby('Country').mean()['ConvertedCompYearly'].sort_values().round()"
   ]
  },
  {
   "cell_type": "code",
   "execution_count": null,
   "id": "fc59b214-5559-4f54-bffb-cd3edc635a39",
   "metadata": {},
   "outputs": [],
   "source": []
  },
  {
   "cell_type": "markdown",
   "id": "6f73cea2-034f-401a-a218-7fb7da57e9a1",
   "metadata": {},
   "source": [
    "#### Q3 - What are the conditions around flexible working in these countries (with the most responses)?"
   ]
  },
  {
   "cell_type": "markdown",
   "id": "b30e0794-7f07-4aab-b351-9037db3aac5a",
   "metadata": {},
   "source": [
    "#### Data Understanding\n",
    "* Access and Explore\n",
    "Here I look into the questions that are related with remote work and what values to expect."
   ]
  },
  {
   "cell_type": "code",
   "execution_count": 56,
   "id": "9f189a4f-cd85-4d4f-9f84-1ad20c40389a",
   "metadata": {},
   "outputs": [
    {
     "data": {
      "text/plain": [
       "['Which best describes your current work situation?']"
      ]
     },
     "execution_count": 56,
     "metadata": {},
     "output_type": "execute_result"
    }
   ],
   "source": [
    "# Check the survey question about RemoteWork\n",
    "get_description('RemoteWork', schema_2022)"
   ]
  },
  {
   "cell_type": "code",
   "execution_count": 57,
   "id": "888cd2c2-167a-42f1-b272-486c9fb31804",
   "metadata": {},
   "outputs": [
    {
     "data": {
      "text/plain": [
       "Fully remote                            25341\n",
       "Hybrid (some remote, some in-person)    25021\n",
       "Full in-person                           8596\n",
       "Name: RemoteWork, dtype: int64"
      ]
     },
     "execution_count": 57,
     "metadata": {},
     "output_type": "execute_result"
    }
   ],
   "source": [
    "# Check the values for RemoteWork\n",
    "df_2022['RemoteWork'].value_counts()"
   ]
  },
  {
   "cell_type": "code",
   "execution_count": 58,
   "id": "a7135ec1-9ecd-4f0c-90e5-51926a7b5ee1",
   "metadata": {},
   "outputs": [
    {
     "data": {
      "text/html": [
       "<div>\n",
       "<style scoped>\n",
       "    .dataframe tbody tr th:only-of-type {\n",
       "        vertical-align: middle;\n",
       "    }\n",
       "\n",
       "    .dataframe tbody tr th {\n",
       "        vertical-align: top;\n",
       "    }\n",
       "\n",
       "    .dataframe thead th {\n",
       "        text-align: right;\n",
       "    }\n",
       "</style>\n",
       "<table border=\"1\" class=\"dataframe\">\n",
       "  <thead>\n",
       "    <tr style=\"text-align: right;\">\n",
       "      <th></th>\n",
       "      <th>ResponseId</th>\n",
       "      <th>Country</th>\n",
       "      <th>RemoteWork</th>\n",
       "      <th>ConvertedCompYearly</th>\n",
       "      <th>YearsCodePro</th>\n",
       "    </tr>\n",
       "  </thead>\n",
       "  <tbody>\n",
       "    <tr>\n",
       "      <th>0</th>\n",
       "      <td>1</td>\n",
       "      <td>NaN</td>\n",
       "      <td>NaN</td>\n",
       "      <td>NaN</td>\n",
       "      <td>NaN</td>\n",
       "    </tr>\n",
       "    <tr>\n",
       "      <th>1</th>\n",
       "      <td>2</td>\n",
       "      <td>Canada</td>\n",
       "      <td>Fully remote</td>\n",
       "      <td>NaN</td>\n",
       "      <td>NaN</td>\n",
       "    </tr>\n",
       "    <tr>\n",
       "      <th>2</th>\n",
       "      <td>3</td>\n",
       "      <td>United Kingdom of Great Britain and Northern I...</td>\n",
       "      <td>Hybrid (some remote, some in-person)</td>\n",
       "      <td>40205.0</td>\n",
       "      <td>5</td>\n",
       "    </tr>\n",
       "    <tr>\n",
       "      <th>3</th>\n",
       "      <td>4</td>\n",
       "      <td>Israel</td>\n",
       "      <td>Fully remote</td>\n",
       "      <td>215232.0</td>\n",
       "      <td>17</td>\n",
       "    </tr>\n",
       "    <tr>\n",
       "      <th>4</th>\n",
       "      <td>5</td>\n",
       "      <td>United States of America</td>\n",
       "      <td>Hybrid (some remote, some in-person)</td>\n",
       "      <td>NaN</td>\n",
       "      <td>3</td>\n",
       "    </tr>\n",
       "  </tbody>\n",
       "</table>\n",
       "</div>"
      ],
      "text/plain": [
       "   ResponseId                                            Country  \\\n",
       "0           1                                                NaN   \n",
       "1           2                                             Canada   \n",
       "2           3  United Kingdom of Great Britain and Northern I...   \n",
       "3           4                                             Israel   \n",
       "4           5                           United States of America   \n",
       "\n",
       "                             RemoteWork  ConvertedCompYearly YearsCodePro  \n",
       "0                                   NaN                  NaN          NaN  \n",
       "1                          Fully remote                  NaN          NaN  \n",
       "2  Hybrid (some remote, some in-person)              40205.0            5  \n",
       "3                          Fully remote             215232.0           17  \n",
       "4  Hybrid (some remote, some in-person)                  NaN            3  "
      ]
     },
     "execution_count": 58,
     "metadata": {},
     "output_type": "execute_result"
    }
   ],
   "source": [
    "df_remote = df_2022[['ResponseId','Country', 'RemoteWork', 'ConvertedCompYearly', 'YearsCodePro']]\n",
    "df_remote.head()"
   ]
  },
  {
   "cell_type": "markdown",
   "id": "7ce6f33a-ea41-4b3e-ac73-bc15b9cf0cf9",
   "metadata": {},
   "source": [
    "#### Prepare Data\n",
    "* Wrangle and Clean  \n",
    "Here I remove null/NaN values and I ensure the country values are not too big to plot. \n",
    "I then select the countries that have the most responses because I want to use the same list of countries that I used in the previous question."
   ]
  },
  {
   "cell_type": "code",
   "execution_count": 59,
   "id": "efeccde2-76b1-4ba2-ad6b-4cdb87fd8e46",
   "metadata": {},
   "outputs": [],
   "source": [
    "# Shorten label that is too long\n",
    "df_remote = df_remote.replace('United Kingdom of Great Britain and Northern Ireland','United Kingdom')"
   ]
  },
  {
   "cell_type": "code",
   "execution_count": 60,
   "id": "7d3037bd-4ac8-48bc-8a9c-24d45e9536a0",
   "metadata": {},
   "outputs": [
    {
     "data": {
      "text/html": [
       "<div>\n",
       "<style scoped>\n",
       "    .dataframe tbody tr th:only-of-type {\n",
       "        vertical-align: middle;\n",
       "    }\n",
       "\n",
       "    .dataframe tbody tr th {\n",
       "        vertical-align: top;\n",
       "    }\n",
       "\n",
       "    .dataframe thead th {\n",
       "        text-align: right;\n",
       "    }\n",
       "</style>\n",
       "<table border=\"1\" class=\"dataframe\">\n",
       "  <thead>\n",
       "    <tr style=\"text-align: right;\">\n",
       "      <th></th>\n",
       "      <th>ResponseId</th>\n",
       "      <th>Country</th>\n",
       "      <th>RemoteWork</th>\n",
       "      <th>ConvertedCompYearly</th>\n",
       "      <th>YearsCodePro</th>\n",
       "    </tr>\n",
       "  </thead>\n",
       "  <tbody>\n",
       "    <tr>\n",
       "      <th>1</th>\n",
       "      <td>2</td>\n",
       "      <td>Canada</td>\n",
       "      <td>Fully remote</td>\n",
       "      <td>NaN</td>\n",
       "      <td>NaN</td>\n",
       "    </tr>\n",
       "    <tr>\n",
       "      <th>2</th>\n",
       "      <td>3</td>\n",
       "      <td>United Kingdom</td>\n",
       "      <td>Hybrid (some remote, some in-person)</td>\n",
       "      <td>40205.0</td>\n",
       "      <td>5</td>\n",
       "    </tr>\n",
       "    <tr>\n",
       "      <th>3</th>\n",
       "      <td>4</td>\n",
       "      <td>Israel</td>\n",
       "      <td>Fully remote</td>\n",
       "      <td>215232.0</td>\n",
       "      <td>17</td>\n",
       "    </tr>\n",
       "    <tr>\n",
       "      <th>4</th>\n",
       "      <td>5</td>\n",
       "      <td>United States of America</td>\n",
       "      <td>Hybrid (some remote, some in-person)</td>\n",
       "      <td>NaN</td>\n",
       "      <td>3</td>\n",
       "    </tr>\n",
       "    <tr>\n",
       "      <th>8</th>\n",
       "      <td>9</td>\n",
       "      <td>Netherlands</td>\n",
       "      <td>Hybrid (some remote, some in-person)</td>\n",
       "      <td>49056.0</td>\n",
       "      <td>6</td>\n",
       "    </tr>\n",
       "    <tr>\n",
       "      <th>9</th>\n",
       "      <td>10</td>\n",
       "      <td>Croatia</td>\n",
       "      <td>Fully remote</td>\n",
       "      <td>NaN</td>\n",
       "      <td>30</td>\n",
       "    </tr>\n",
       "    <tr>\n",
       "      <th>10</th>\n",
       "      <td>11</td>\n",
       "      <td>United Kingdom</td>\n",
       "      <td>Hybrid (some remote, some in-person)</td>\n",
       "      <td>60307.0</td>\n",
       "      <td>2</td>\n",
       "    </tr>\n",
       "    <tr>\n",
       "      <th>11</th>\n",
       "      <td>12</td>\n",
       "      <td>United States of America</td>\n",
       "      <td>Fully remote</td>\n",
       "      <td>194400.0</td>\n",
       "      <td>10</td>\n",
       "    </tr>\n",
       "    <tr>\n",
       "      <th>12</th>\n",
       "      <td>13</td>\n",
       "      <td>United States of America</td>\n",
       "      <td>Hybrid (some remote, some in-person)</td>\n",
       "      <td>65000.0</td>\n",
       "      <td>5</td>\n",
       "    </tr>\n",
       "    <tr>\n",
       "      <th>13</th>\n",
       "      <td>14</td>\n",
       "      <td>Australia</td>\n",
       "      <td>Fully remote</td>\n",
       "      <td>NaN</td>\n",
       "      <td>15</td>\n",
       "    </tr>\n",
       "  </tbody>\n",
       "</table>\n",
       "</div>"
      ],
      "text/plain": [
       "    ResponseId                   Country  \\\n",
       "1            2                    Canada   \n",
       "2            3            United Kingdom   \n",
       "3            4                    Israel   \n",
       "4            5  United States of America   \n",
       "8            9               Netherlands   \n",
       "9           10                   Croatia   \n",
       "10          11            United Kingdom   \n",
       "11          12  United States of America   \n",
       "12          13  United States of America   \n",
       "13          14                 Australia   \n",
       "\n",
       "                              RemoteWork  ConvertedCompYearly YearsCodePro  \n",
       "1                           Fully remote                  NaN          NaN  \n",
       "2   Hybrid (some remote, some in-person)              40205.0            5  \n",
       "3                           Fully remote             215232.0           17  \n",
       "4   Hybrid (some remote, some in-person)                  NaN            3  \n",
       "8   Hybrid (some remote, some in-person)              49056.0            6  \n",
       "9                           Fully remote                  NaN           30  \n",
       "10  Hybrid (some remote, some in-person)              60307.0            2  \n",
       "11                          Fully remote             194400.0           10  \n",
       "12  Hybrid (some remote, some in-person)              65000.0            5  \n",
       "13                          Fully remote                  NaN           15  "
      ]
     },
     "execution_count": 60,
     "metadata": {},
     "output_type": "execute_result"
    }
   ],
   "source": [
    "# Remove rows with any null values in the selected columns\n",
    "df_remote = df_remote.dropna(subset=['ResponseId','Country','RemoteWork'], axis=0, how = 'any')\n",
    "df_remote.head(10)"
   ]
  },
  {
   "cell_type": "code",
   "execution_count": 61,
   "id": "819f27d4-0e79-4ff1-af77-fc4b3fb38345",
   "metadata": {},
   "outputs": [
    {
     "data": {
      "text/html": [
       "<div>\n",
       "<style scoped>\n",
       "    .dataframe tbody tr th:only-of-type {\n",
       "        vertical-align: middle;\n",
       "    }\n",
       "\n",
       "    .dataframe tbody tr th {\n",
       "        vertical-align: top;\n",
       "    }\n",
       "\n",
       "    .dataframe thead th {\n",
       "        text-align: right;\n",
       "    }\n",
       "</style>\n",
       "<table border=\"1\" class=\"dataframe\">\n",
       "  <thead>\n",
       "    <tr style=\"text-align: right;\">\n",
       "      <th></th>\n",
       "      <th>ResponseId</th>\n",
       "      <th>Country</th>\n",
       "      <th>RemoteWork</th>\n",
       "      <th>ConvertedCompYearly</th>\n",
       "      <th>YearsCodePro</th>\n",
       "    </tr>\n",
       "  </thead>\n",
       "  <tbody>\n",
       "    <tr>\n",
       "      <th>1</th>\n",
       "      <td>2</td>\n",
       "      <td>Canada</td>\n",
       "      <td>Fully remote</td>\n",
       "      <td>NaN</td>\n",
       "      <td>NaN</td>\n",
       "    </tr>\n",
       "    <tr>\n",
       "      <th>2</th>\n",
       "      <td>3</td>\n",
       "      <td>United Kingdom</td>\n",
       "      <td>Hybrid (some remote, some in-person)</td>\n",
       "      <td>40205.0</td>\n",
       "      <td>5</td>\n",
       "    </tr>\n",
       "    <tr>\n",
       "      <th>4</th>\n",
       "      <td>5</td>\n",
       "      <td>United States of America</td>\n",
       "      <td>Hybrid (some remote, some in-person)</td>\n",
       "      <td>NaN</td>\n",
       "      <td>3</td>\n",
       "    </tr>\n",
       "    <tr>\n",
       "      <th>8</th>\n",
       "      <td>9</td>\n",
       "      <td>Netherlands</td>\n",
       "      <td>Hybrid (some remote, some in-person)</td>\n",
       "      <td>49056.0</td>\n",
       "      <td>6</td>\n",
       "    </tr>\n",
       "    <tr>\n",
       "      <th>10</th>\n",
       "      <td>11</td>\n",
       "      <td>United Kingdom</td>\n",
       "      <td>Hybrid (some remote, some in-person)</td>\n",
       "      <td>60307.0</td>\n",
       "      <td>2</td>\n",
       "    </tr>\n",
       "    <tr>\n",
       "      <th>11</th>\n",
       "      <td>12</td>\n",
       "      <td>United States of America</td>\n",
       "      <td>Fully remote</td>\n",
       "      <td>194400.0</td>\n",
       "      <td>10</td>\n",
       "    </tr>\n",
       "    <tr>\n",
       "      <th>12</th>\n",
       "      <td>13</td>\n",
       "      <td>United States of America</td>\n",
       "      <td>Hybrid (some remote, some in-person)</td>\n",
       "      <td>65000.0</td>\n",
       "      <td>5</td>\n",
       "    </tr>\n",
       "    <tr>\n",
       "      <th>14</th>\n",
       "      <td>15</td>\n",
       "      <td>United States of America</td>\n",
       "      <td>Fully remote</td>\n",
       "      <td>110000.0</td>\n",
       "      <td>5</td>\n",
       "    </tr>\n",
       "    <tr>\n",
       "      <th>22</th>\n",
       "      <td>23</td>\n",
       "      <td>Canada</td>\n",
       "      <td>Fully remote</td>\n",
       "      <td>97605.0</td>\n",
       "      <td>20</td>\n",
       "    </tr>\n",
       "    <tr>\n",
       "      <th>23</th>\n",
       "      <td>24</td>\n",
       "      <td>Netherlands</td>\n",
       "      <td>Hybrid (some remote, some in-person)</td>\n",
       "      <td>NaN</td>\n",
       "      <td>6</td>\n",
       "    </tr>\n",
       "  </tbody>\n",
       "</table>\n",
       "</div>"
      ],
      "text/plain": [
       "    ResponseId                   Country  \\\n",
       "1            2                    Canada   \n",
       "2            3            United Kingdom   \n",
       "4            5  United States of America   \n",
       "8            9               Netherlands   \n",
       "10          11            United Kingdom   \n",
       "11          12  United States of America   \n",
       "12          13  United States of America   \n",
       "14          15  United States of America   \n",
       "22          23                    Canada   \n",
       "23          24               Netherlands   \n",
       "\n",
       "                              RemoteWork  ConvertedCompYearly YearsCodePro  \n",
       "1                           Fully remote                  NaN          NaN  \n",
       "2   Hybrid (some remote, some in-person)              40205.0            5  \n",
       "4   Hybrid (some remote, some in-person)                  NaN            3  \n",
       "8   Hybrid (some remote, some in-person)              49056.0            6  \n",
       "10  Hybrid (some remote, some in-person)              60307.0            2  \n",
       "11                          Fully remote             194400.0           10  \n",
       "12  Hybrid (some remote, some in-person)              65000.0            5  \n",
       "14                          Fully remote             110000.0            5  \n",
       "22                          Fully remote              97605.0           20  \n",
       "23  Hybrid (some remote, some in-person)                  NaN            6  "
      ]
     },
     "execution_count": 61,
     "metadata": {},
     "output_type": "execute_result"
    }
   ],
   "source": [
    "# Use the same top 10 countries as before\n",
    "df_remote_top10 = df_remote[df_remote['Country'].isin(top10_l)]\n",
    "df_remote_top10.head(10)"
   ]
  },
  {
   "cell_type": "markdown",
   "id": "bc51d027-98ed-4617-89a1-7742d81bba69",
   "metadata": {},
   "source": [
    "#### Question 3 - What are the conditions around flexible working in these countries?\n",
    "\n",
    "* Analyse  \n",
    "Here I take the data from the top 10 countries with the most responses and I calculate the percentage that each country has for each type of remote work (Fully remote, Hybrid and Full in-person).\n",
    "* Visualise  \n",
    "Initially I use a barplot to plot the count for each of the remote work options per country. I didn't find that graph very insightful and so I used the percentage that I calculated to plot the results in a stacked barplot with labels on the bars that indicate the percentage for each type of remote work by country. \n",
    "* Explain the visualisation  \n",
    "The first graph that shows the count exposes that some countries much more responses than others, but this is not something I want to focus so using a stacked percentage barplot makes the comparison between the countries much easier. As you can see  Canada, Poland and the UK have the smallest percentage of fully in-person work, whilst India has the largest percentage."
   ]
  },
  {
   "cell_type": "code",
   "execution_count": 62,
   "id": "15686c38-f31d-4464-83e3-c319c5b5ecd7",
   "metadata": {},
   "outputs": [
    {
     "data": {
      "image/png": "[encoded data removed]",
      "text/plain": [
       "<Figure size 936x576 with 1 Axes>"
      ]
     },
     "metadata": {},
     "output_type": "display_data"
    }
   ],
   "source": [
    "# Show the results in a histogram\n",
    "sns.set(rc={'figure.figsize':(13, 8)})\n",
    "ax = sns.countplot(data=df_remote_top10, y=df_remote_top10['Country'], hue=df_remote_top10['RemoteWork'], palette=sns.color_palette(\"Set2\") )\n",
    "sns.move_legend(ax, \"upper left\", bbox_to_anchor=(1, 1))\n",
    "plt.show()\n",
    "figure = ax.get_figure()\n",
    "figure.savefig(\"country_salary_scatter.png\") "
   ]
  },
  {
   "cell_type": "code",
   "execution_count": 63,
   "id": "eac989d5-586c-41c0-85ef-edb1e54ad6cf",
   "metadata": {},
   "outputs": [
    {
     "data": {
      "text/plain": [
       "Country                   RemoteWork                          \n",
       "Brazil                    Full in-person                           207\n",
       "                          Fully remote                            1248\n",
       "                          Hybrid (some remote, some in-person)     414\n",
       "Canada                    Full in-person                           136\n",
       "                          Fully remote                            1308\n",
       "                          Hybrid (some remote, some in-person)     652\n",
       "France                    Full in-person                           289\n",
       "                          Fully remote                             450\n",
       "                          Hybrid (some remote, some in-person)    1215\n",
       "Germany                   Full in-person                           443\n",
       "                          Fully remote                            1558\n",
       "                          Hybrid (some remote, some in-person)    2529\n",
       "India                     Full in-person                          1005\n",
       "                          Fully remote                            1952\n",
       "                          Hybrid (some remote, some in-person)    1942\n",
       "Netherlands               Full in-person                           191\n",
       "                          Fully remote                             250\n",
       "                          Hybrid (some remote, some in-person)     893\n",
       "Poland                    Full in-person                           115\n",
       "                          Fully remote                             793\n",
       "                          Hybrid (some remote, some in-person)     544\n",
       "Spain                     Full in-person                           144\n",
       "                          Fully remote                             674\n",
       "                          Hybrid (some remote, some in-person)     535\n",
       "United Kingdom            Full in-person                           259\n",
       "                          Fully remote                            1532\n",
       "                          Hybrid (some remote, some in-person)    1784\n",
       "United States of America  Full in-person                          1224\n",
       "                          Fully remote                            6771\n",
       "                          Hybrid (some remote, some in-person)    3634\n",
       "Name: RemoteWork, dtype: int64"
      ]
     },
     "execution_count": 63,
     "metadata": {},
     "output_type": "execute_result"
    }
   ],
   "source": [
    "# Check the count for the top10 countries\n",
    "df_remote_top10.groupby([\"Country\", \"RemoteWork\"])[\"RemoteWork\"].count()"
   ]
  },
  {
   "cell_type": "code",
   "execution_count": 66,
   "id": "d569d00d-3575-489b-a6af-48155da9f267",
   "metadata": {},
   "outputs": [
    {
     "data": {
      "text/plain": [
       "Country\n",
       "Brazil                       1869\n",
       "Canada                       2096\n",
       "France                       1954\n",
       "Germany                      4530\n",
       "India                        4899\n",
       "Netherlands                  1334\n",
       "Poland                       1452\n",
       "Spain                        1353\n",
       "United Kingdom               3575\n",
       "United States of America    11629\n",
       "Name: RemoteWork, dtype: int64"
      ]
     },
     "execution_count": 66,
     "metadata": {},
     "output_type": "execute_result"
    }
   ],
   "source": [
    "#Get the total count for each of the countries\n",
    "df_remote_top10.groupby(['Country'])['RemoteWork'].count()"
   ]
  },
  {
   "cell_type": "code",
   "execution_count": 65,
   "id": "40d1d52e-2b80-4687-af21-a3ebe1303199",
   "metadata": {},
   "outputs": [
    {
     "data": {
      "text/plain": [
       "Country                   RemoteWork                          \n",
       "Brazil                    Full in-person                          0.110754\n",
       "                          Fully remote                            0.667737\n",
       "                          Hybrid (some remote, some in-person)    0.221509\n",
       "Canada                    Full in-person                          0.064885\n",
       "                          Fully remote                            0.624046\n",
       "                          Hybrid (some remote, some in-person)    0.311069\n",
       "France                    Full in-person                          0.147902\n",
       "                          Fully remote                            0.230297\n",
       "                          Hybrid (some remote, some in-person)    0.621801\n",
       "Germany                   Full in-person                          0.097792\n",
       "                          Fully remote                            0.343929\n",
       "                          Hybrid (some remote, some in-person)    0.558278\n",
       "India                     Full in-person                          0.205144\n",
       "                          Fully remote                            0.398449\n",
       "                          Hybrid (some remote, some in-person)    0.396407\n",
       "Netherlands               Full in-person                          0.143178\n",
       "                          Fully remote                            0.187406\n",
       "                          Hybrid (some remote, some in-person)    0.669415\n",
       "Poland                    Full in-person                          0.079201\n",
       "                          Fully remote                            0.546143\n",
       "                          Hybrid (some remote, some in-person)    0.374656\n",
       "Spain                     Full in-person                          0.106430\n",
       "                          Fully remote                            0.498152\n",
       "                          Hybrid (some remote, some in-person)    0.395418\n",
       "United Kingdom            Full in-person                          0.072448\n",
       "                          Fully remote                            0.428531\n",
       "                          Hybrid (some remote, some in-person)    0.499021\n",
       "United States of America  Full in-person                          0.105254\n",
       "                          Fully remote                            0.582251\n",
       "                          Hybrid (some remote, some in-person)    0.312495\n",
       "Name: RemoteWork, dtype: float64"
      ]
     },
     "execution_count": 65,
     "metadata": {},
     "output_type": "execute_result"
    }
   ],
   "source": [
    "#\n",
    "df_remote_top10_grouped = df_remote_top10.groupby([\"Country\", \"RemoteWork\"])[\"RemoteWork\"].count() / df_remote_top10.groupby(['Country'])['RemoteWork'].count()\n",
    "df_remote_top10_grouped"
   ]
  },
  {
   "cell_type": "code",
   "execution_count": 223,
   "id": "d12ee4bf-95b1-49b3-be8e-7b0975ed24cb",
   "metadata": {},
   "outputs": [
    {
     "data": {
      "text/html": [
       "<div>\n",
       "<style scoped>\n",
       "    .dataframe tbody tr th:only-of-type {\n",
       "        vertical-align: middle;\n",
       "    }\n",
       "\n",
       "    .dataframe tbody tr th {\n",
       "        vertical-align: top;\n",
       "    }\n",
       "\n",
       "    .dataframe thead th {\n",
       "        text-align: right;\n",
       "    }\n",
       "</style>\n",
       "<table border=\"1\" class=\"dataframe\">\n",
       "  <thead>\n",
       "    <tr style=\"text-align: right;\">\n",
       "      <th>RemoteWork</th>\n",
       "      <th>Full in-person</th>\n",
       "      <th>Fully remote</th>\n",
       "      <th>Hybrid (some remote, some in-person)</th>\n",
       "    </tr>\n",
       "    <tr>\n",
       "      <th>Country</th>\n",
       "      <th></th>\n",
       "      <th></th>\n",
       "      <th></th>\n",
       "    </tr>\n",
       "  </thead>\n",
       "  <tbody>\n",
       "    <tr>\n",
       "      <th>Brazil</th>\n",
       "      <td>0.110754</td>\n",
       "      <td>0.667737</td>\n",
       "      <td>0.221509</td>\n",
       "    </tr>\n",
       "    <tr>\n",
       "      <th>Canada</th>\n",
       "      <td>0.064885</td>\n",
       "      <td>0.624046</td>\n",
       "      <td>0.311069</td>\n",
       "    </tr>\n",
       "    <tr>\n",
       "      <th>France</th>\n",
       "      <td>0.147902</td>\n",
       "      <td>0.230297</td>\n",
       "      <td>0.621801</td>\n",
       "    </tr>\n",
       "    <tr>\n",
       "      <th>Germany</th>\n",
       "      <td>0.097792</td>\n",
       "      <td>0.343929</td>\n",
       "      <td>0.558278</td>\n",
       "    </tr>\n",
       "    <tr>\n",
       "      <th>India</th>\n",
       "      <td>0.205144</td>\n",
       "      <td>0.398449</td>\n",
       "      <td>0.396407</td>\n",
       "    </tr>\n",
       "    <tr>\n",
       "      <th>Netherlands</th>\n",
       "      <td>0.143178</td>\n",
       "      <td>0.187406</td>\n",
       "      <td>0.669415</td>\n",
       "    </tr>\n",
       "    <tr>\n",
       "      <th>Poland</th>\n",
       "      <td>0.079201</td>\n",
       "      <td>0.546143</td>\n",
       "      <td>0.374656</td>\n",
       "    </tr>\n",
       "    <tr>\n",
       "      <th>Spain</th>\n",
       "      <td>0.106430</td>\n",
       "      <td>0.498152</td>\n",
       "      <td>0.395418</td>\n",
       "    </tr>\n",
       "    <tr>\n",
       "      <th>United Kingdom</th>\n",
       "      <td>0.072448</td>\n",
       "      <td>0.428531</td>\n",
       "      <td>0.499021</td>\n",
       "    </tr>\n",
       "    <tr>\n",
       "      <th>United States of America</th>\n",
       "      <td>0.105254</td>\n",
       "      <td>0.582251</td>\n",
       "      <td>0.312495</td>\n",
       "    </tr>\n",
       "  </tbody>\n",
       "</table>\n",
       "</div>"
      ],
      "text/plain": [
       "RemoteWork                Full in-person  Fully remote  \\\n",
       "Country                                                  \n",
       "Brazil                          0.110754      0.667737   \n",
       "Canada                          0.064885      0.624046   \n",
       "France                          0.147902      0.230297   \n",
       "Germany                         0.097792      0.343929   \n",
       "India                           0.205144      0.398449   \n",
       "Netherlands                     0.143178      0.187406   \n",
       "Poland                          0.079201      0.546143   \n",
       "Spain                           0.106430      0.498152   \n",
       "United Kingdom                  0.072448      0.428531   \n",
       "United States of America        0.105254      0.582251   \n",
       "\n",
       "RemoteWork                Hybrid (some remote, some in-person)  \n",
       "Country                                                         \n",
       "Brazil                                                0.221509  \n",
       "Canada                                                0.311069  \n",
       "France                                                0.621801  \n",
       "Germany                                               0.558278  \n",
       "India                                                 0.396407  \n",
       "Netherlands                                           0.669415  \n",
       "Poland                                                0.374656  \n",
       "Spain                                                 0.395418  \n",
       "United Kingdom                                        0.499021  \n",
       "United States of America                              0.312495  "
      ]
     },
     "execution_count": 223,
     "metadata": {},
     "output_type": "execute_result"
    }
   ],
   "source": [
    "df_remote_top10_grouped = df_remote_top10_grouped.unstack(level='RemoteWork')\n",
    "df_remote_top10_grouped"
   ]
  },
  {
   "cell_type": "code",
   "execution_count": 229,
   "id": "523a8afe-dc88-4e45-b61b-507242ec5a84",
   "metadata": {},
   "outputs": [
    {
     "data": {
      "image/png": "[encoded data removed]",
      "text/plain": [
       "<Figure size 936x576 with 1 Axes>"
      ]
     },
     "metadata": {},
     "output_type": "display_data"
    }
   ],
   "source": [
    "# Plotting the percentages. I got help from here: https://stackoverflow.com/questions/64754905/100-stacked-bar-chart-python-seaborn-matplotlib\n",
    "df_remote_top10_grouped.plot.barh(stacked=True, color = {\"Full in-person\": \"#cc66ff\", \"Fully remote\": \"#99ccff\", \"Hybrid (some remote, some in-person)\":\"#ffcc66\" })\n",
    "plt.legend(bbox_to_anchor=(0.5, 1.02), loc=\"lower center\", borderaxespad=0, frameon=False, ncol=3)\n",
    "for ix, row in df_remote_top10_grouped.reset_index(drop=True).iterrows():\n",
    "    #print(ix, row)\n",
    "    cumulative = 0\n",
    "    for element in row:\n",
    "        plt.text(cumulative + element / 2,ix,f\"{int(element * 100)} %\",va=\"center\",ha=\"center\",)\n",
    "        cumulative += element\n",
    "plt.tight_layout()"
   ]
  },
  {
   "cell_type": "markdown",
   "id": "acf7955e-497a-45cb-b7f0-8f2805e00f86",
   "metadata": {},
   "source": [
    "#### Evaluation\n",
    "* Findings  \n",
    "    * Q1 - Javascript, HTML/CSS and SQL are the top three languages used overall. Bash/Shell, SQL, Delphi and C# are more popular with the ‘15 and over’ developers, while the ‘less than 15’ years group shows preference for Python, HTML/CSS and JavaScript.  \n",
    "    * Q2 - The country of residence has a significant impact on the salary that professionals with the same years of experience earn. Higer payscales are recorded for the USA, Canada, and the UK compared to Brazil, India, Poland and Spain.  \n",
    "    * Q3 - Working fully remotely or hybird (some remote, some in-person) is the dominant working pattern recorded for all of the countries. For 2022 Canada, Poland and the UK have the smallest percentage of fully in-person work, whilst India has the largest percentage.  "
   ]
  },
  {
   "cell_type": "code",
   "execution_count": null,
   "id": "43930428-6206-4051-8d30-aa242b51f947",
   "metadata": {},
   "outputs": [],
   "source": []
  },
  {
   "cell_type": "markdown",
   "id": "1f8cc1bf-df6d-46c8-a67f-5489ae9269c1",
   "metadata": {},
   "source": [
    "**This code was used to test how I calculate the median salary per country**"
   ]
  },
  {
   "cell_type": "code",
   "execution_count": 230,
   "id": "78c6fd02-9229-42fb-bfdc-c861c844983d",
   "metadata": {},
   "outputs": [
    {
     "data": {
      "text/html": [
       "<div>\n",
       "<style scoped>\n",
       "    .dataframe tbody tr th:only-of-type {\n",
       "        vertical-align: middle;\n",
       "    }\n",
       "\n",
       "    .dataframe tbody tr th {\n",
       "        vertical-align: top;\n",
       "    }\n",
       "\n",
       "    .dataframe thead th {\n",
       "        text-align: right;\n",
       "    }\n",
       "</style>\n",
       "<table border=\"1\" class=\"dataframe\">\n",
       "  <thead>\n",
       "    <tr style=\"text-align: right;\">\n",
       "      <th></th>\n",
       "      <th>Bin_Years</th>\n",
       "      <th>Country</th>\n",
       "      <th>Salary</th>\n",
       "    </tr>\n",
       "  </thead>\n",
       "  <tbody>\n",
       "    <tr>\n",
       "      <th>0</th>\n",
       "      <td>1-3</td>\n",
       "      <td>Uruguay</td>\n",
       "      <td>2</td>\n",
       "    </tr>\n",
       "    <tr>\n",
       "      <th>1</th>\n",
       "      <td>4-6</td>\n",
       "      <td>Albania</td>\n",
       "      <td>3</td>\n",
       "    </tr>\n",
       "    <tr>\n",
       "      <th>2</th>\n",
       "      <td>4-6</td>\n",
       "      <td>Albania</td>\n",
       "      <td>4</td>\n",
       "    </tr>\n",
       "    <tr>\n",
       "      <th>3</th>\n",
       "      <td>4-6</td>\n",
       "      <td>Yemen</td>\n",
       "      <td>5</td>\n",
       "    </tr>\n",
       "    <tr>\n",
       "      <th>4</th>\n",
       "      <td>7-9</td>\n",
       "      <td>Venezuela</td>\n",
       "      <td>4</td>\n",
       "    </tr>\n",
       "    <tr>\n",
       "      <th>5</th>\n",
       "      <td>7-9</td>\n",
       "      <td>Albania</td>\n",
       "      <td>2</td>\n",
       "    </tr>\n",
       "    <tr>\n",
       "      <th>6</th>\n",
       "      <td>10-12</td>\n",
       "      <td>Italy</td>\n",
       "      <td>5</td>\n",
       "    </tr>\n",
       "    <tr>\n",
       "      <th>7</th>\n",
       "      <td>10-12</td>\n",
       "      <td>Italy</td>\n",
       "      <td>3</td>\n",
       "    </tr>\n",
       "    <tr>\n",
       "      <th>8</th>\n",
       "      <td>10-12</td>\n",
       "      <td>Italy</td>\n",
       "      <td>8</td>\n",
       "    </tr>\n",
       "    <tr>\n",
       "      <th>9</th>\n",
       "      <td>10-12</td>\n",
       "      <td>France</td>\n",
       "      <td>7</td>\n",
       "    </tr>\n",
       "  </tbody>\n",
       "</table>\n",
       "</div>"
      ],
      "text/plain": [
       "  Bin_Years    Country  Salary\n",
       "0       1-3    Uruguay       2\n",
       "1       4-6    Albania       3\n",
       "2       4-6    Albania       4\n",
       "3       4-6      Yemen       5\n",
       "4       7-9  Venezuela       4\n",
       "5       7-9    Albania       2\n",
       "6     10-12      Italy       5\n",
       "7     10-12      Italy       3\n",
       "8     10-12      Italy       8\n",
       "9     10-12     France       7"
      ]
     },
     "execution_count": 230,
     "metadata": {},
     "output_type": "execute_result"
    }
   ],
   "source": [
    "# Used this to test the process of grouping the salary by country\n",
    "df_test = pd.DataFrame({'Bin_Years': ['1-3', '4-6','4-6','4-6','7-9','7-9','10-12','10-12','10-12','10-12'], \n",
    "                   'Country' : ['Uruguay','Albania','Albania','Yemen','Venezuela','Albania','Italy','Italy','Italy','France'],\n",
    "                   'Salary' : [2,3,4,5,4,2,5,3,8,7]})\n",
    "df_test"
   ]
  },
  {
   "cell_type": "code",
   "execution_count": 697,
   "id": "3afb1656-a788-4669-9d78-29c0a5cb2ee0",
   "metadata": {},
   "outputs": [
    {
     "data": {
      "text/plain": [
       "Bin_Years  Country  \n",
       "1-3        Uruguay      2.0\n",
       "10-12      France       7.0\n",
       "           Italy        5.0\n",
       "4-6        Albania      3.5\n",
       "           Yemen        5.0\n",
       "7-9        Albania      2.0\n",
       "           Venezuela    4.0\n",
       "Name: MEDIAN_Salary, dtype: float64"
      ]
     },
     "execution_count": 697,
     "metadata": {},
     "output_type": "execute_result"
    }
   ],
   "source": [
    "m = df_test.groupby(['Bin_Years','Country'])[['Salary']].apply(np.median)\n",
    "m.name = 'MEDIAN_Salary'\n",
    "m"
   ]
  },
  {
   "cell_type": "code",
   "execution_count": 698,
   "id": "20dbc6f8-c062-4e1a-93cb-a3fbf248469b",
   "metadata": {},
   "outputs": [],
   "source": [
    "df_test = df_test.join(m, on=['Bin_Years', 'Country'])"
   ]
  },
  {
   "cell_type": "code",
   "execution_count": 700,
   "id": "e7bd08fc-3f0f-4405-a2e2-699daed747a5",
   "metadata": {},
   "outputs": [
    {
     "data": {
      "text/html": [
       "<div>\n",
       "<style scoped>\n",
       "    .dataframe tbody tr th:only-of-type {\n",
       "        vertical-align: middle;\n",
       "    }\n",
       "\n",
       "    .dataframe tbody tr th {\n",
       "        vertical-align: top;\n",
       "    }\n",
       "\n",
       "    .dataframe thead th {\n",
       "        text-align: right;\n",
       "    }\n",
       "</style>\n",
       "<table border=\"1\" class=\"dataframe\">\n",
       "  <thead>\n",
       "    <tr style=\"text-align: right;\">\n",
       "      <th></th>\n",
       "      <th>Bin_Years</th>\n",
       "      <th>Country</th>\n",
       "      <th>Salary</th>\n",
       "      <th>MEDIAN_Salary</th>\n",
       "    </tr>\n",
       "  </thead>\n",
       "  <tbody>\n",
       "    <tr>\n",
       "      <th>0</th>\n",
       "      <td>1-3</td>\n",
       "      <td>Uruguay</td>\n",
       "      <td>2</td>\n",
       "      <td>2.0</td>\n",
       "    </tr>\n",
       "    <tr>\n",
       "      <th>1</th>\n",
       "      <td>4-6</td>\n",
       "      <td>Albania</td>\n",
       "      <td>3</td>\n",
       "      <td>3.5</td>\n",
       "    </tr>\n",
       "    <tr>\n",
       "      <th>2</th>\n",
       "      <td>4-6</td>\n",
       "      <td>Albania</td>\n",
       "      <td>4</td>\n",
       "      <td>3.5</td>\n",
       "    </tr>\n",
       "    <tr>\n",
       "      <th>3</th>\n",
       "      <td>4-6</td>\n",
       "      <td>Yemen</td>\n",
       "      <td>5</td>\n",
       "      <td>5.0</td>\n",
       "    </tr>\n",
       "    <tr>\n",
       "      <th>4</th>\n",
       "      <td>7-9</td>\n",
       "      <td>Venezuela</td>\n",
       "      <td>4</td>\n",
       "      <td>4.0</td>\n",
       "    </tr>\n",
       "    <tr>\n",
       "      <th>5</th>\n",
       "      <td>7-9</td>\n",
       "      <td>Albania</td>\n",
       "      <td>2</td>\n",
       "      <td>2.0</td>\n",
       "    </tr>\n",
       "    <tr>\n",
       "      <th>6</th>\n",
       "      <td>10-12</td>\n",
       "      <td>Italy</td>\n",
       "      <td>5</td>\n",
       "      <td>5.0</td>\n",
       "    </tr>\n",
       "    <tr>\n",
       "      <th>7</th>\n",
       "      <td>10-12</td>\n",
       "      <td>Italy</td>\n",
       "      <td>3</td>\n",
       "      <td>5.0</td>\n",
       "    </tr>\n",
       "    <tr>\n",
       "      <th>8</th>\n",
       "      <td>10-12</td>\n",
       "      <td>Italy</td>\n",
       "      <td>8</td>\n",
       "      <td>5.0</td>\n",
       "    </tr>\n",
       "    <tr>\n",
       "      <th>9</th>\n",
       "      <td>10-12</td>\n",
       "      <td>France</td>\n",
       "      <td>7</td>\n",
       "      <td>7.0</td>\n",
       "    </tr>\n",
       "  </tbody>\n",
       "</table>\n",
       "</div>"
      ],
      "text/plain": [
       "  Bin_Years    Country  Salary  MEDIAN_Salary\n",
       "0       1-3    Uruguay       2            2.0\n",
       "1       4-6    Albania       3            3.5\n",
       "2       4-6    Albania       4            3.5\n",
       "3       4-6      Yemen       5            5.0\n",
       "4       7-9  Venezuela       4            4.0\n",
       "5       7-9    Albania       2            2.0\n",
       "6     10-12      Italy       5            5.0\n",
       "7     10-12      Italy       3            5.0\n",
       "8     10-12      Italy       8            5.0\n",
       "9     10-12     France       7            7.0"
      ]
     },
     "execution_count": 700,
     "metadata": {},
     "output_type": "execute_result"
    }
   ],
   "source": [
    "df_test"
   ]
  },
  {
   "cell_type": "markdown",
   "id": "b7ba634d-10bf-4467-a000-d7adc9d87c6d",
   "metadata": {},
   "source": []
  }
 ],
 "metadata": {
  "kernelspec": {
   "display_name": "Python 3 (ipykernel)",
   "language": "python",
   "name": "python3"
  },
  "language_info": {
   "codemirror_mode": {
    "name": "ipython",
    "version": 3
   },
   "file_extension": ".py",
   "mimetype": "text/x-python",
   "name": "python",
   "nbconvert_exporter": "python",
   "pygments_lexer": "ipython3",
   "version": "3.10.7"
  }
 },
 "nbformat": 4,
 "nbformat_minor": 5
}
